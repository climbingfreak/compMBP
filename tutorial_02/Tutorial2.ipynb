{
 "cells": [
  {
   "cell_type": "markdown",
   "source": [
    "# Tutorial 2: Swendsen-Wang Algorithm"
   ],
   "metadata": {
    "collapsed": false,
    "pycharm": {
     "name": "#%% md\n"
    }
   }
  },
  {
   "cell_type": "code",
   "execution_count": 1,
   "outputs": [],
   "source": [
    "import numpy as np\n",
    "from scipy import constants, sparse\n",
    "import matplotlib.pyplot as plt\n",
    "from tqdm.notebook import tqdm\n",
    "from numba import jit\n",
    "\n",
    "plt.style.use(\"dark_background\")"
   ],
   "metadata": {
    "collapsed": false,
    "pycharm": {
     "name": "#%%\n"
    }
   }
  },
  {
   "cell_type": "code",
   "execution_count": 2,
   "metadata": {
    "collapsed": true,
    "pycharm": {
     "name": "#%%\n"
    }
   },
   "outputs": [],
   "source": [
    "def index1D(L_y, x, y):\n",
    "    return x * L_y + y\n",
    "\n",
    "def index2D(L_y, n):\n",
    "    return n // L_y, n % L_y\n"
   ]
  },
  {
   "cell_type": "code",
   "execution_count": 3,
   "outputs": [],
   "source": [
    "# a)\n",
    "\n",
    "def get_bond_array(L_x, L_y):\n",
    "    nodes = np.arange(L_x * L_y)\n",
    "    bonds = []\n",
    "\n",
    "    for n in nodes:\n",
    "        x,y = index2D(L_y, n)\n",
    "        x_neighbour = (x+1) % L_x\n",
    "        y_neighbour = (y+1) % L_y\n",
    "        bonds.append([n, index1D(L_y, x, y_neighbour)])\n",
    "        bonds.append([n, index1D(L_y, x_neighbour, y)])\n",
    "\n",
    "    return np.array(bonds, dtype=int)"
   ],
   "metadata": {
    "collapsed": false,
    "pycharm": {
     "name": "#%%\n"
    }
   }
  },
  {
   "cell_type": "code",
   "execution_count": 4,
   "outputs": [],
   "source": [
    "L_x = 5 #side length of lattice\n",
    "L_y = 5\n",
    "\n",
    "bonds = get_bond_array(L_x, L_y)"
   ],
   "metadata": {
    "collapsed": false,
    "pycharm": {
     "name": "#%%\n"
    }
   }
  },
  {
   "cell_type": "code",
   "execution_count": 5,
   "outputs": [],
   "source": [
    "# b)\n",
    "\n",
    "L_x = 5\n",
    "L_y = 5\n",
    "N = L_x*L_y\n",
    "bonds = get_bond_array(L_x, L_y)\n",
    "spins = np.random.randint(0, 2, size=N) * 2 - 1\n"
   ],
   "metadata": {
    "collapsed": false,
    "pycharm": {
     "name": "#%%\n"
    }
   }
  },
  {
   "cell_type": "code",
   "execution_count": 6,
   "outputs": [],
   "source": [
    "# c)\n",
    "\n",
    "def assign_weights(bonds, spins, J=1, T=4.2):\n",
    "    w_bs = []\n",
    "    for b in bonds:\n",
    "        s1 = spins[b[0]]\n",
    "        s2 = spins[b[1]]\n",
    "\n",
    "        w_b=1\n",
    "\n",
    "        if s1*s2 == -1:\n",
    "            w_b=0\n",
    "        elif np.exp(-2.*J/T) > np.random.rand():\n",
    "            w_b=0\n",
    "\n",
    "        w_bs.append(w_b)\n",
    "    return w_bs"
   ],
   "metadata": {
    "collapsed": false,
    "pycharm": {
     "name": "#%%\n"
    }
   }
  },
  {
   "cell_type": "code",
   "execution_count": 7,
   "outputs": [],
   "source": [
    "# d)\n",
    "L_x = 5\n",
    "L_y = 5\n",
    "\n",
    "spins = np.random.randint(0, 2, size=L_x * L_y) * 2 - 1\n",
    "bonds = get_bond_array(L_x, L_y)\n",
    "\n",
    "\n",
    "def flip_cluster(spins, bonds, L_x, L_y, T):\n",
    "    N = L_x * L_y\n",
    "    weights = assign_weights(bonds, spins, T)\n",
    "\n",
    "    graph = sparse.csr_matrix((weights, (bonds[:,0], bonds[:,1])), shape=(N,N))\n",
    "    graph_combined = graph+graph.T\n",
    "\n",
    "    cluster_cnt, cluster_labels = sparse.csgraph.connected_components(graph_combined, directed=False)\n",
    "\n",
    "   # flipping the actual clusters\n",
    "    for cluster in range(1,cluster_cnt):\n",
    "        if np.random.rand() > 0.5:\n",
    "            spins[cluster_labels == cluster] *= -1\n",
    "\n",
    "    # flipping the single member clusters\n",
    "    for idx in range(len(spins)):\n",
    "        if not cluster_labels[idx]:\n",
    "            if np.random.rand() > 0.5:\n",
    "                spins[idx] *= -1\n",
    "\n",
    "    return spins"
   ],
   "metadata": {
    "collapsed": false,
    "pycharm": {
     "name": "#%%\n"
    }
   }
  },
  {
   "cell_type": "code",
   "execution_count": 8,
   "outputs": [],
   "source": [
    "# e)\n",
    "def system_energy(spins, bonds, J=1):\n",
    "    return J * np.sum(spins[bonds[:,0]]*spins[bonds[:,1]])\n",
    "\n",
    "\n",
    "def system_magnetization(spins):\n",
    "    return np.sum(spins)\n",
    "\n",
    "E = system_energy(spins, bonds)\n",
    "M = system_magnetization(spins)\n"
   ],
   "metadata": {
    "collapsed": false,
    "pycharm": {
     "name": "#%%\n"
    }
   }
  },
  {
   "cell_type": "code",
   "execution_count": 9,
   "outputs": [],
   "source": [
    "#f)\n",
    "\n",
    "\n",
    "def run_mc(T, L_x=6, L_y=6):\n",
    "\n",
    "    spins = np.random.randint(0, 2, size=L_x * L_y) * 2 - 1\n",
    "    bonds = get_bond_array(L_x, L_y)\n",
    "\n",
    "    N_eq = 500\n",
    "    N_flips = 2000\n",
    "    N_sweeps = 20\n",
    "\n",
    "    Es = [] # energies\n",
    "    Ms = [] # magnetizations\n",
    "    Iterations = []\n",
    "\n",
    "    for i in tqdm(range(N_flips)):\n",
    "        flip_cluster(spins, bonds, L_x, L_y, T)\n",
    "\n",
    "        if i < N_eq:\n",
    "            continue\n",
    "\n",
    "        if N_flips % N_sweeps == 0:\n",
    "            Es.append(system_energy(spins, bonds))\n",
    "            Ms.append(system_magnetization(spins))\n",
    "            Iterations.append(i)\n",
    "\n",
    "\n",
    "\n",
    "    return np.mean(Es), np.mean(Ms), len(Es)\n",
    "\n",
    "\n",
    "def run_temperatures(Ts):\n",
    "    Es = []\n",
    "    Ms = []\n",
    "\n",
    "    for T in Ts:\n",
    "        #print(\"Running temperature {}\".format(T))\n",
    "        E, M, cnt = run_mc(T)\n",
    "        Es.append(E)\n",
    "        Ms.append(M)\n",
    "\n",
    "\n",
    "    return Ts, Es, Ms, cnt\n",
    "\n",
    "\n",
    "def make_plots(Ts, Es, Ms):\n",
    "    plt.plot(Ts, Es, \"-o\", label=\"Energy mean over {} measurements\".format(cnt))\n",
    "    plt.xlabel(\"Temperature\")\n",
    "    plt.ylabel(\"Energy\")\n",
    "\n",
    "    plt.figure()\n",
    "    plt.plot(Ts, Ms, \"-o\", label=\"Magnetization mean over {} measurements\".format(cnt))\n",
    "\n",
    "    plt.xlabel(\"Temperature\")\n",
    "    plt.ylabel(\"Magentization\")\n",
    "\n",
    "    plt.show()\n"
   ],
   "metadata": {
    "collapsed": false,
    "pycharm": {
     "name": "#%%\n"
    }
   }
  },
  {
   "cell_type": "code",
   "execution_count": 10,
   "outputs": [
    {
     "data": {
      "text/plain": "  0%|          | 0/2000 [00:00<?, ?it/s]",
      "application/vnd.jupyter.widget-view+json": {
       "version_major": 2,
       "version_minor": 0,
       "model_id": "4bbee496352d484d933b1d17a0c86cfe"
      }
     },
     "metadata": {},
     "output_type": "display_data"
    },
    {
     "data": {
      "text/plain": "  0%|          | 0/2000 [00:00<?, ?it/s]",
      "application/vnd.jupyter.widget-view+json": {
       "version_major": 2,
       "version_minor": 0,
       "model_id": "01ed3b3b576a4191a8fd53ffc2bfe698"
      }
     },
     "metadata": {},
     "output_type": "display_data"
    },
    {
     "data": {
      "text/plain": "  0%|          | 0/2000 [00:00<?, ?it/s]",
      "application/vnd.jupyter.widget-view+json": {
       "version_major": 2,
       "version_minor": 0,
       "model_id": "e7df4f6cd72e4f6ea8a4f8c7c003f760"
      }
     },
     "metadata": {},
     "output_type": "display_data"
    },
    {
     "data": {
      "text/plain": "  0%|          | 0/2000 [00:00<?, ?it/s]",
      "application/vnd.jupyter.widget-view+json": {
       "version_major": 2,
       "version_minor": 0,
       "model_id": "84a500f2fa99413292823c3828933677"
      }
     },
     "metadata": {},
     "output_type": "display_data"
    },
    {
     "data": {
      "text/plain": "  0%|          | 0/2000 [00:00<?, ?it/s]",
      "application/vnd.jupyter.widget-view+json": {
       "version_major": 2,
       "version_minor": 0,
       "model_id": "c5fb14705e9d47e2b9e5cdf28d02f6b8"
      }
     },
     "metadata": {},
     "output_type": "display_data"
    },
    {
     "data": {
      "text/plain": "  0%|          | 0/2000 [00:00<?, ?it/s]",
      "application/vnd.jupyter.widget-view+json": {
       "version_major": 2,
       "version_minor": 0,
       "model_id": "88e699a78d364af5aca3d71108eaac6a"
      }
     },
     "metadata": {},
     "output_type": "display_data"
    },
    {
     "data": {
      "text/plain": "  0%|          | 0/2000 [00:00<?, ?it/s]",
      "application/vnd.jupyter.widget-view+json": {
       "version_major": 2,
       "version_minor": 0,
       "model_id": "781642c4045841829ab1438ac5699a03"
      }
     },
     "metadata": {},
     "output_type": "display_data"
    },
    {
     "data": {
      "text/plain": "  0%|          | 0/2000 [00:00<?, ?it/s]",
      "application/vnd.jupyter.widget-view+json": {
       "version_major": 2,
       "version_minor": 0,
       "model_id": "ed25c02a70314f0280dbe35fc3ce6b74"
      }
     },
     "metadata": {},
     "output_type": "display_data"
    },
    {
     "data": {
      "text/plain": "  0%|          | 0/2000 [00:00<?, ?it/s]",
      "application/vnd.jupyter.widget-view+json": {
       "version_major": 2,
       "version_minor": 0,
       "model_id": "8a7e3a47338546bf9567ef892e7d71fb"
      }
     },
     "metadata": {},
     "output_type": "display_data"
    },
    {
     "data": {
      "text/plain": "  0%|          | 0/2000 [00:00<?, ?it/s]",
      "application/vnd.jupyter.widget-view+json": {
       "version_major": 2,
       "version_minor": 0,
       "model_id": "57d8a36fde7d41ef8fe182e7dee15c32"
      }
     },
     "metadata": {},
     "output_type": "display_data"
    }
   ],
   "source": [
    "Ts = np.arange(0.5, 2.5, 0.2)\n",
    "Ts, Es, Ms, cnt = run_temperatures(Ts)"
   ],
   "metadata": {
    "collapsed": false,
    "pycharm": {
     "name": "#%%\n"
    }
   }
  },
  {
   "cell_type": "code",
   "execution_count": 125,
   "outputs": [
    {
     "data": {
      "text/plain": "<Figure size 432x288 with 1 Axes>",
      "image/png": "[encoded data removed]"
     },
     "metadata": {},
     "output_type": "display_data"
    },
    {
     "data": {
      "text/plain": "<Figure size 432x288 with 1 Axes>",
      "image/png": "[encoded data removed]"
     },
     "metadata": {},
     "output_type": "display_data"
    }
   ],
   "source": [
    "make_plots(Ts, Es, Ms)"
   ],
   "metadata": {
    "collapsed": false,
    "pycharm": {
     "name": "#%%\n"
    }
   }
  },
  {
   "cell_type": "code",
   "execution_count": null,
   "outputs": [
    {
     "data": {
      "text/plain": "  0%|          | 0/2000 [00:00<?, ?it/s]",
      "application/vnd.jupyter.widget-view+json": {
       "version_major": 2,
       "version_minor": 0,
       "model_id": "74c0441f3bc5402fb4e33ea75f28c63e"
      }
     },
     "metadata": {},
     "output_type": "display_data"
    },
    {
     "data": {
      "text/plain": "  0%|          | 0/2000 [00:00<?, ?it/s]",
      "application/vnd.jupyter.widget-view+json": {
       "version_major": 2,
       "version_minor": 0,
       "model_id": "d62762b0754f4e24b716860466f3e2e5"
      }
     },
     "metadata": {},
     "output_type": "display_data"
    },
    {
     "data": {
      "text/plain": "  0%|          | 0/2000 [00:00<?, ?it/s]",
      "application/vnd.jupyter.widget-view+json": {
       "version_major": 2,
       "version_minor": 0,
       "model_id": "b4c35a188b894b85af2891e31756ccdd"
      }
     },
     "metadata": {},
     "output_type": "display_data"
    },
    {
     "data": {
      "text/plain": "  0%|          | 0/2000 [00:00<?, ?it/s]",
      "application/vnd.jupyter.widget-view+json": {
       "version_major": 2,
       "version_minor": 0,
       "model_id": "27f634ba126040c1988b67374d75ab24"
      }
     },
     "metadata": {},
     "output_type": "display_data"
    },
    {
     "data": {
      "text/plain": "  0%|          | 0/2000 [00:00<?, ?it/s]",
      "application/vnd.jupyter.widget-view+json": {
       "version_major": 2,
       "version_minor": 0,
       "model_id": "69e137447dd34e77a8545b35928f651b"
      }
     },
     "metadata": {},
     "output_type": "display_data"
    },
    {
     "data": {
      "text/plain": "  0%|          | 0/2000 [00:00<?, ?it/s]",
      "application/vnd.jupyter.widget-view+json": {
       "version_major": 2,
       "version_minor": 0,
       "model_id": "c50b621014c94599a4958bfa49f945b1"
      }
     },
     "metadata": {},
     "output_type": "display_data"
    },
    {
     "data": {
      "text/plain": "  0%|          | 0/2000 [00:00<?, ?it/s]",
      "application/vnd.jupyter.widget-view+json": {
       "version_major": 2,
       "version_minor": 0,
       "model_id": "a2bf3b82085a478eadffc4617ccb276f"
      }
     },
     "metadata": {},
     "output_type": "display_data"
    },
    {
     "data": {
      "text/plain": "  0%|          | 0/2000 [00:00<?, ?it/s]",
      "application/vnd.jupyter.widget-view+json": {
       "version_major": 2,
       "version_minor": 0,
       "model_id": "d5cf2e8487a8467d859f5051fd28bbe9"
      }
     },
     "metadata": {},
     "output_type": "display_data"
    },
    {
     "data": {
      "text/plain": "  0%|          | 0/2000 [00:00<?, ?it/s]",
      "application/vnd.jupyter.widget-view+json": {
       "version_major": 2,
       "version_minor": 0,
       "model_id": "e31876729dcd4416bbd205beb697c74c"
      }
     },
     "metadata": {},
     "output_type": "display_data"
    },
    {
     "data": {
      "text/plain": "  0%|          | 0/2000 [00:00<?, ?it/s]",
      "application/vnd.jupyter.widget-view+json": {
       "version_major": 2,
       "version_minor": 0,
       "model_id": "0e56b885cfa149188c7a5174cdf0a9de"
      }
     },
     "metadata": {},
     "output_type": "display_data"
    },
    {
     "data": {
      "text/plain": "  0%|          | 0/2000 [00:00<?, ?it/s]",
      "application/vnd.jupyter.widget-view+json": {
       "version_major": 2,
       "version_minor": 0,
       "model_id": "88b7d3b90085442db5d05aa101945d44"
      }
     },
     "metadata": {},
     "output_type": "display_data"
    },
    {
     "data": {
      "text/plain": "  0%|          | 0/2000 [00:00<?, ?it/s]",
      "application/vnd.jupyter.widget-view+json": {
       "version_major": 2,
       "version_minor": 0,
       "model_id": "54a8b4b765a6424fbec9bc4ecfe87449"
      }
     },
     "metadata": {},
     "output_type": "display_data"
    },
    {
     "data": {
      "text/plain": "  0%|          | 0/2000 [00:00<?, ?it/s]",
      "application/vnd.jupyter.widget-view+json": {
       "version_major": 2,
       "version_minor": 0,
       "model_id": "24ba7fbe84d04ec6aba1f28fb914798e"
      }
     },
     "metadata": {},
     "output_type": "display_data"
    },
    {
     "data": {
      "text/plain": "  0%|          | 0/2000 [00:00<?, ?it/s]",
      "application/vnd.jupyter.widget-view+json": {
       "version_major": 2,
       "version_minor": 0,
       "model_id": "542ca4f425ed41b7b21560c06421a4a8"
      }
     },
     "metadata": {},
     "output_type": "display_data"
    },
    {
     "data": {
      "text/plain": "  0%|          | 0/2000 [00:00<?, ?it/s]",
      "application/vnd.jupyter.widget-view+json": {
       "version_major": 2,
       "version_minor": 0,
       "model_id": "2e706401915848a09aa81697840ec199"
      }
     },
     "metadata": {},
     "output_type": "display_data"
    },
    {
     "data": {
      "text/plain": "  0%|          | 0/2000 [00:00<?, ?it/s]",
      "application/vnd.jupyter.widget-view+json": {
       "version_major": 2,
       "version_minor": 0,
       "model_id": "46fd378a36d74b37abd410e20ceb8813"
      }
     },
     "metadata": {},
     "output_type": "display_data"
    },
    {
     "data": {
      "text/plain": "  0%|          | 0/2000 [00:00<?, ?it/s]",
      "application/vnd.jupyter.widget-view+json": {
       "version_major": 2,
       "version_minor": 0,
       "model_id": "87ffed8d4172438baacb6ee220c2c8fe"
      }
     },
     "metadata": {},
     "output_type": "display_data"
    },
    {
     "data": {
      "text/plain": "  0%|          | 0/2000 [00:00<?, ?it/s]",
      "application/vnd.jupyter.widget-view+json": {
       "version_major": 2,
       "version_minor": 0,
       "model_id": "bca18e8e28cb4f72869120443b32a758"
      }
     },
     "metadata": {},
     "output_type": "display_data"
    }
   ],
   "source": [
    "Ts = np.arange(1.7, 2.7, .05)\n",
    "Ts, Es, Ms, cnt = run_temperatures(Ts)"
   ],
   "metadata": {
    "collapsed": false,
    "pycharm": {
     "name": "#%%\n",
     "is_executing": true
    }
   }
  },
  {
   "cell_type": "code",
   "execution_count": 127,
   "outputs": [
    {
     "data": {
      "text/plain": "<Figure size 432x288 with 1 Axes>",
      "image/png": "[encoded data removed]"
     },
     "metadata": {},
     "output_type": "display_data"
    },
    {
     "data": {
      "text/plain": "<Figure size 432x288 with 1 Axes>",
      "image/png": "[encoded data removed]"
     },
     "metadata": {},
     "output_type": "display_data"
    }
   ],
   "source": [
    "make_plots(Ts, Es, Ms)"
   ],
   "metadata": {
    "collapsed": false,
    "pycharm": {
     "name": "#%%\n"
    }
   }
  },
  {
   "cell_type": "code",
   "execution_count": null,
   "outputs": [],
   "source": [],
   "metadata": {
    "collapsed": false,
    "pycharm": {
     "name": "#%%\n"
    }
   }
  }
 ],
 "metadata": {
  "kernelspec": {
   "display_name": "Python 3",
   "language": "python",
   "name": "python3"
  },
  "language_info": {
   "codemirror_mode": {
    "name": "ipython",
    "version": 2
   },
   "file_extension": ".py",
   "mimetype": "text/x-python",
   "name": "python",
   "nbconvert_exporter": "python",
   "pygments_lexer": "ipython2",
   "version": "2.7.6"
  }
 },
 "nbformat": 4,
 "nbformat_minor": 0
}