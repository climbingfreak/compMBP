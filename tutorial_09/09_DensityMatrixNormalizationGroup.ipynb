{
 "cells": [
  {
   "cell_type": "markdown",
   "metadata": {
    "collapsed": true,
    "pycharm": {
     "name": "#%% md\n"
    }
   },
   "source": [
    "# Tutorial 09"
   ]
  },
  {
   "cell_type": "code",
   "execution_count": 40,
   "outputs": [],
   "source": [
    "import d_dmrg\n",
    "import a_mps\n",
    "import b_model\n",
    "from tqdm.autonotebook import tqdm\n",
    "import tfi_exact\n",
    "import numpy as np\n",
    "from matplotlib import pyplot as plt"
   ],
   "metadata": {
    "collapsed": false,
    "pycharm": {
     "name": "#%%\n"
    }
   }
  },
  {
   "cell_type": "code",
   "execution_count": 23,
   "outputs": [],
   "source": [
    "model = b_model.TFIModel(10,1.,1.)"
   ],
   "metadata": {
    "collapsed": false,
    "pycharm": {
     "name": "#%%\n"
    }
   }
  },
  {
   "cell_type": "code",
   "execution_count": 27,
   "outputs": [],
   "source": [
    "L = 14\n",
    "g = 1.5\n",
    "J = 1.\n",
    "\n",
    "psi0 = a_mps.init_spinup_MPS(L)\n",
    "model = b_model.TFIModel(L,g,J)\n",
    "dmrg = d_dmrg.DMRGEngine(psi0, model)\n",
    "\n"
   ],
   "metadata": {
    "collapsed": false,
    "pycharm": {
     "name": "#%%\n"
    }
   }
  },
  {
   "cell_type": "code",
   "execution_count": 28,
   "outputs": [
    {
     "name": "stdout",
     "output_type": "stream",
     "text": [
      "-22.284193390741905\n",
      "-22.265735042280827\n",
      "-22.265734925392344\n",
      "-22.26573492539236\n",
      "-22.26573492539236\n"
     ]
    }
   ],
   "source": [
    "for i in range(5):\n",
    "    dmrg.sweep()\n",
    "    print(model.energy(psi0))"
   ],
   "metadata": {
    "collapsed": false,
    "pycharm": {
     "name": "#%%\n"
    }
   }
  },
  {
   "cell_type": "code",
   "execution_count": 30,
   "outputs": [
    {
     "name": "stdout",
     "output_type": "stream",
     "text": [
      "-22.2657349253924\n"
     ]
    }
   ],
   "source": [
    "print(tfi_exact.finite_gs_energy(L, g, J))"
   ],
   "metadata": {
    "collapsed": false,
    "pycharm": {
     "name": "#%%\n"
    }
   }
  },
  {
   "cell_type": "code",
   "execution_count": 44,
   "outputs": [],
   "source": [
    "def dmrg_sim(L, g, J, epsilon=1e-8, max_sweeps=50):\n",
    "    \"\"\"\n",
    "    Perfom a full DMRG simulation.\n",
    "    \"\"\"\n",
    "\n",
    "    psi0 = a_mps.init_spinup_MPS(L)\n",
    "    model = b_model.TFIModel(L,g,J)\n",
    "    dmrg = d_dmrg.DMRGEngine(psi0, model)\n",
    "\n",
    "    previous_E = model.energy(psi0)\n",
    "    for i in range(max_sweeps):\n",
    "        dmrg.sweep()\n",
    "        E = model.energy(psi0)\n",
    "\n",
    "        if abs(previous_E-E) < epsilon:\n",
    "            break\n",
    "\n",
    "        previous_E = E\n",
    "\n",
    "    return model, psi0"
   ],
   "metadata": {
    "collapsed": false,
    "pycharm": {
     "name": "#%%\n"
    }
   }
  },
  {
   "cell_type": "code",
   "execution_count": 45,
   "outputs": [
    {
     "name": "stdout",
     "output_type": "stream",
     "text": [
      "-136.06789993425835\n"
     ]
    }
   ],
   "source": [
    "model, state = dmrg_sim(L, g, J)\n",
    "print(model.energy(state))"
   ],
   "metadata": {
    "collapsed": false,
    "pycharm": {
     "name": "#%%\n"
    }
   }
  },
  {
   "cell_type": "code",
   "execution_count": 46,
   "outputs": [
    {
     "data": {
      "text/plain": "  0%|          | 0/3 [00:00<?, ?it/s]",
      "application/vnd.jupyter.widget-view+json": {
       "version_major": 2,
       "version_minor": 0,
       "model_id": "7ae95d6092314e129cf14f1f0db0f95e"
      }
     },
     "metadata": {},
     "output_type": "display_data"
    },
    {
     "data": {
      "text/plain": "  0%|          | 0/6 [00:00<?, ?it/s]",
      "application/vnd.jupyter.widget-view+json": {
       "version_major": 2,
       "version_minor": 0,
       "model_id": "f9b5bedac42e4a18b53f7850c4a1c056"
      }
     },
     "metadata": {},
     "output_type": "display_data"
    },
    {
     "data": {
      "text/plain": "  0%|          | 0/6 [00:00<?, ?it/s]",
      "application/vnd.jupyter.widget-view+json": {
       "version_major": 2,
       "version_minor": 0,
       "model_id": "e342862dfd744506ace258f2db22af23"
      }
     },
     "metadata": {},
     "output_type": "display_data"
    },
    {
     "data": {
      "text/plain": "  0%|          | 0/6 [00:00<?, ?it/s]",
      "application/vnd.jupyter.widget-view+json": {
       "version_major": 2,
       "version_minor": 0,
       "model_id": "9b832b3aab084a2da0ee424ed918f0ce"
      }
     },
     "metadata": {},
     "output_type": "display_data"
    },
    {
     "data": {
      "text/plain": "<Figure size 432x288 with 1 Axes>",
      "image/png": "[encoded data removed]"
     },
     "metadata": {
      "needs_background": "light"
     },
     "output_type": "display_data"
    }
   ],
   "source": [
    "# d)\n",
    "\n",
    "Ls = [8,16,32,64, 96, 128]\n",
    "gs = [1., 1.5, 0.5]\n",
    "J = 1.\n",
    "\n",
    "\n",
    "for g in tqdm(gs):\n",
    "    entropies = []\n",
    "    for L in tqdm(Ls):\n",
    "        model, psi = dmrg_sim(L, g, J)\n",
    "        entropies.append(psi.entanglement_entropy()[int(L/2)])\n",
    "\n",
    "    plt.plot(Ls, entropies, label=\"g={}\".format(g))\n",
    "\n",
    "plt.xlabel(\"g\")\n",
    "plt.ylabel(\"S\")\n",
    "plt.legend()\n",
    "plt.show()"
   ],
   "metadata": {
    "collapsed": false,
    "pycharm": {
     "name": "#%%\n"
    }
   }
  },
  {
   "cell_type": "code",
   "execution_count": 48,
   "outputs": [],
   "source": [
    "entropies_g1 = []\n",
    "for L in Ls:\n",
    "    model, psi = dmrg_sim(L, 1., J)\n",
    "    entropies_g1.append(psi.entanglement_entropy()[int(L/2)])"
   ],
   "metadata": {
    "collapsed": false,
    "pycharm": {
     "name": "#%%\n"
    }
   }
  },
  {
   "cell_type": "code",
   "execution_count": 52,
   "outputs": [
    {
     "data": {
      "text/plain": "<Figure size 432x288 with 1 Axes>",
      "image/png": "[encoded data removed]"
     },
     "metadata": {
      "needs_background": "light"
     },
     "output_type": "display_data"
    }
   ],
   "source": [
    "coeff = np.polyfit(np.log(Ls), entropies_g1, 1)\n",
    "\n",
    "plt.plot(Ls, entropies_g1, \"o-\", label=\"Data\")\n",
    "plt.plot(Ls, coeff[1] + coeff[0]*np.log(Ls), label=\"fit\")\n",
    "plt.legend()\n",
    "plt.show()\n",
    "\n",
    "\n",
    "print(\"Central charge ={}\". format(coeff[0]*6))"
   ],
   "metadata": {
    "collapsed": false,
    "pycharm": {
     "name": "#%%\n"
    }
   }
  },
  {
   "cell_type": "code",
   "execution_count": null,
   "outputs": [],
   "source": [],
   "metadata": {
    "collapsed": false,
    "pycharm": {
     "name": "#%%\n"
    }
   }
  }
 ],
 "metadata": {
  "kernelspec": {
   "display_name": "Python 3",
   "language": "python",
   "name": "python3"
  },
  "language_info": {
   "codemirror_mode": {
    "name": "ipython",
    "version": 2
   },
   "file_extension": ".py",
   "mimetype": "text/x-python",
   "name": "python",
   "nbconvert_exporter": "python",
   "pygments_lexer": "ipython2",
   "version": "2.7.6"
  }
 },
 "nbformat": 4,
 "nbformat_minor": 0
}