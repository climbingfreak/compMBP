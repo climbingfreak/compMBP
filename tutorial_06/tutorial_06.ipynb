{
 "cells": [
  {
   "cell_type": "markdown",
   "source": [
    "# Tutorial 06\n"
   ],
   "metadata": {
    "collapsed": false,
    "pycharm": {
     "name": "#%% md\n"
    }
   }
  },
  {
   "cell_type": "code",
   "execution_count": 75,
   "outputs": [],
   "source": [
    "from lanczos import *\n",
    "import numpy as np\n",
    "import functools\n",
    "from tqdm import tqdm\n",
    "from matplotlib import pyplot as plt\n",
    "\n",
    "plt.style.use('dark_background')"
   ],
   "metadata": {
    "collapsed": false,
    "pycharm": {
     "name": "#%%\n"
    }
   }
  },
  {
   "cell_type": "code",
   "execution_count": 2,
   "outputs": [],
   "source": [
    "L = 14\n",
    "g = 1.5\n",
    "\n",
    "sx_list = gen_sx_list(L)\n",
    "sz_list = gen_sz_list(L)\n",
    "\n",
    "H = gen_hamiltonian(sx_list, sz_list, g)\n"
   ],
   "metadata": {
    "collapsed": false,
    "pycharm": {
     "name": "#%%\n"
    }
   }
  },
  {
   "cell_type": "code",
   "execution_count": 15,
   "outputs": [
    {
     "name": "stdout",
     "output_type": "stream",
     "text": [
      "(16384,)\n"
     ]
    }
   ],
   "source": [
    "E, vecs = scipy.sparse.linalg.eigsh(H, which='SA')\n",
    "psi0 = vecs[:, 0]\n",
    "print(psi0.shape)\n",
    "psi_rand = np.random.normal(size=psi0.shape) + 1.j * np.random.normal(size=psi0.shape)\n",
    "psi_rand /= np.linalg.norm(psi_rand)"
   ],
   "metadata": {
    "collapsed": false,
    "pycharm": {
     "name": "#%%\n"
    }
   }
  },
  {
   "cell_type": "code",
   "execution_count": 16,
   "outputs": [],
   "source": [
    "T, B = lanczos(psi_rand, H, N=200, stabilize=False)\n",
    "Es =np.linalg.eigvalsh(T)"
   ],
   "metadata": {
    "collapsed": false,
    "pycharm": {
     "name": "#%%\n"
    }
   }
  },
  {
   "cell_type": "code",
   "execution_count": 17,
   "outputs": [
    {
     "name": "stdout",
     "output_type": "stream",
     "text": [
      "10 lowest Eigenvalues\n",
      " [-23.40758298 -23.40758298 -23.40758298 -22.40634977 -22.40634977\n",
      " -22.40563963 -21.92703453 -21.92703453 -21.12647356 -21.12647356]\n",
      "10 lowest Eigenvalues\n",
      " [-23.40758298 -22.40634977 -21.92703453 -21.92703453 -21.12647356\n",
      " -21.05728137]\n"
     ]
    }
   ],
   "source": [
    "print(\"Results with stabilize = False\")\n",
    "print(\"10 lowest Eigenvalues\\n\" , Es[:10])\n",
    "print(\"10 lowest Eigenvalues\\n\" , E[:10])"
   ],
   "metadata": {
    "collapsed": false,
    "pycharm": {
     "name": "#%%\n"
    }
   }
  },
  {
   "cell_type": "markdown",
   "source": [
    "We find a degernacy of 3.\n"
   ],
   "metadata": {
    "collapsed": false,
    "pycharm": {
     "name": "#%% md\n"
    }
   }
  },
  {
   "cell_type": "code",
   "execution_count": 21,
   "outputs": [],
   "source": [
    "T, B = lanczos(psi_rand, H, N=200, stabilize=True)\n",
    "Es_stb =np.linalg.eigvalsh(T)"
   ],
   "metadata": {
    "collapsed": false,
    "pycharm": {
     "name": "#%%\n"
    }
   }
  },
  {
   "cell_type": "code",
   "execution_count": 22,
   "outputs": [
    {
     "name": "stdout",
     "output_type": "stream",
     "text": [
      "Results with stabilize = True\n",
      "10 lowest Eigenvalues\n",
      " [-23.40758298 -22.40634977 -21.92703453 -21.92703453 -21.12647356\n",
      " -21.05728137 -21.05728137 -20.36491833 -20.36491833 -20.19235712]\n"
     ]
    }
   ],
   "source": [
    "print(\"Results with stabilize = True\")\n",
    "print(\"10 lowest Eigenvalues\\n\" , Es_stb[:10])"
   ],
   "metadata": {
    "collapsed": false,
    "pycharm": {
     "name": "#%%\n"
    }
   }
  },
  {
   "cell_type": "code",
   "execution_count": 51,
   "outputs": [
    {
     "name": "stdout",
     "output_type": "stream",
     "text": [
      "Former energy: -23.40758298202162, this energy: -23.407582982021665\n",
      "Variance -2.0463630789890885e-12\n"
     ]
    }
   ],
   "source": [
    "#c)\n",
    "w, vs = np.linalg.eigh(T)\n",
    "U_0 = vs[:,0]\n",
    "psi0_c = np.array(B).T @ U_0\n",
    "psi0_c /= np.linalg.norm(psi0_c)\n",
    "\n",
    "# energy\n",
    "energy = np.inner(psi0_c.conj(), (H @ psi0_c)).real\n",
    "print(\"Former energy: {}, this energy: {}\".format(Es[0], energy))\n",
    "\n",
    "# variance\n",
    "variance = (np.inner(psi0_c.conj(), (H @ H @ psi0_c)) - energy**2).real\n",
    "print(\"Variance {}\".format(variance))"
   ],
   "metadata": {
    "collapsed": false,
    "pycharm": {
     "name": "#%%\n"
    }
   }
  },
  {
   "cell_type": "code",
   "execution_count": 56,
   "outputs": [],
   "source": [
    "#d)\n",
    "Splus_0 = singesite_to_full(Splus, 0, L)\n",
    "phi0 = Splus_0 @ psi0_c\n",
    "\n",
    "Tphi, Bphi = lanczos(phi0, H, N=200, stabilize=True)"
   ],
   "metadata": {
    "collapsed": false,
    "pycharm": {
     "name": "#%%\n"
    }
   }
  },
  {
   "cell_type": "code",
   "execution_count": 73,
   "outputs": [
    {
     "data": {
      "text/plain": "<Figure size 432x288 with 1 Axes>",
      "image/png": "[encoded data removed]"
     },
     "metadata": {
      "needs_background": "light"
     },
     "output_type": "display_data"
    }
   ],
   "source": [
    "\n",
    "def  recurssion_wrapper(z, T, L):\n",
    "    count = 0\n",
    "    fraction = T[-2, -1]**2 / (z - T[-1, -1])\n",
    "\n",
    "    while count < len(T)-2:\n",
    "        fraction = 1/(z-T[-count-3,-count-3]-T[-count-3, -count-2]**2*fraction)\n",
    "        count += 1\n",
    "\n",
    "    return -fraction.imag/np.pi\n",
    "\n",
    "epsilon = .1\n",
    "omegas = np.linspace(-1,10, 1000)\n",
    "E0 = Es_stb[0]\n",
    "z = omegas + E0 + epsilon*1j\n",
    "I = recurssion_wrapper(z, Tphi, L)\n",
    "\n",
    "# plot\n",
    "\n",
    "plt.plot(omegas, I, '-o')\n",
    "plt.show()\n",
    "\n"
   ],
   "metadata": {
    "collapsed": false,
    "pycharm": {
     "name": "#%%\n"
    }
   }
  },
  {
   "cell_type": "code",
   "execution_count": 77,
   "outputs": [
    {
     "name": "stderr",
     "output_type": "stream",
     "text": [
      "100%|██████████| 14/14 [00:26<00:00,  1.89s/it]\n"
     ]
    },
    {
     "data": {
      "text/plain": "<Figure size 432x288 with 1 Axes>",
      "image/png": "[encoded data removed]"
     },
     "metadata": {},
     "output_type": "display_data"
    }
   ],
   "source": [
    "# g)\n",
    "ks= np.linspace(0, L, L) * np.pi * 2 / L\n",
    "Splus_ks = []\n",
    "\n",
    "for k in ks:\n",
    "    sum = 0\n",
    "    for j in range(L):\n",
    "        sum += np.exp(1j * j * k) * singesite_to_full(Splus, j, L)\n",
    "\n",
    "    Splus_ks.append(1 / np.sqrt(L) * sum)\n",
    "\n",
    "Splus_ks = np.array(Splus_ks)\n",
    "\n",
    "# make plot\n",
    "epsilon = .1\n",
    "omegas = np.linspace(-1,10, 1000)\n",
    "z = omegas + E0 + epsilon*1j\n",
    "E0 = Es_stb[0]\n",
    "\n",
    "Is=[]\n",
    "\n",
    "for Splus_k in tqdm(Splus_ks):\n",
    "    phik = Splus_k @ psi0_c\n",
    "    Tphi, Bphi = lanczos(phik, H, N=200, stabilize=True)\n",
    "\n",
    "    I = recurssion_wrapper(z, Tphi, L)\n",
    "    Is.append(I)\n",
    "\n",
    "colorplot(ks, omegas, Is)"
   ],
   "metadata": {
    "collapsed": false,
    "pycharm": {
     "name": "#%%\n"
    }
   }
  },
  {
   "cell_type": "code",
   "execution_count": 101,
   "outputs": [],
   "source": [
    "# h)\n",
    "epsilon = .1\n",
    "omegas = np.linspace(-1,10, 1000)\n",
    "ks= np.linspace(-L/2, L/2, L) * np.pi * 2 / L\n",
    "\n",
    "Splus_ks = []\n",
    "\n",
    "for k in ks:\n",
    "    sum = 0\n",
    "    for j in range(L):\n",
    "        sum += np.exp(1j * j * k) * singesite_to_full(Splus, j, L)\n",
    "\n",
    "    Splus_ks.append(1 / np.sqrt(L) * sum)\n",
    "\n",
    "Splus_ks = np.array(Splus_ks)"
   ],
   "metadata": {
    "collapsed": false,
    "pycharm": {
     "name": "#%%\n"
    }
   }
  },
  {
   "cell_type": "code",
   "execution_count": 102,
   "outputs": [
    {
     "name": "stderr",
     "output_type": "stream",
     "text": [
      "100%|██████████| 14/14 [00:24<00:00,  1.78s/it]\n",
      "100%|██████████| 14/14 [00:25<00:00,  1.80s/it]\n",
      "100%|██████████| 14/14 [00:25<00:00,  1.82s/it]\n",
      "100%|██████████| 14/14 [00:24<00:00,  1.77s/it]\n",
      "100%|██████████| 14/14 [00:25<00:00,  1.80s/it]\n",
      "100%|██████████| 14/14 [00:25<00:00,  1.82s/it]\n"
     ]
    },
    {
     "name": "stdout",
     "output_type": "stream",
     "text": [
      "14 1000 (14, 1000)\n",
      "14 1000 (14, 1000)\n",
      "14 1000 (14, 1000)\n",
      "14 1000 (14, 1000)\n",
      "14 1000 (14, 1000)\n",
      "14 1000 (14, 1000)\n"
     ]
    },
    {
     "data": {
      "text/plain": "<Figure size 432x288 with 1 Axes>",
      "image/png": "[encoded data removed]"
     },
     "metadata": {},
     "output_type": "display_data"
    },
    {
     "data": {
      "text/plain": "<Figure size 432x288 with 1 Axes>",
      "image/png": "[encoded data removed]"
     },
     "metadata": {},
     "output_type": "display_data"
    },
    {
     "data": {
      "text/plain": "<Figure size 432x288 with 1 Axes>",
      "image/png": "[encoded data removed]"
     },
     "metadata": {},
     "output_type": "display_data"
    },
    {
     "data": {
      "text/plain": "<Figure size 432x288 with 1 Axes>",
      "image/png": "[encoded data removed]"
     },
     "metadata": {},
     "output_type": "display_data"
    },
    {
     "data": {
      "text/plain": "<Figure size 432x288 with 1 Axes>",
      "image/png": "[encoded data removed]"
     },
     "metadata": {},
     "output_type": "display_data"
    },
    {
     "data": {
      "text/plain": "<Figure size 432x288 with 1 Axes>",
      "image/png": "[encoded data removed]"
     },
     "metadata": {},
     "output_type": "display_data"
    }
   ],
   "source": [
    "\n",
    "for J in [-1,1]:\n",
    "    for g in [0.5,1,1.5]:\n",
    "        H = gen_hamiltonian(sx_list, sz_list, g, J=J)\n",
    "        E0, vecs = scipy.sparse.linalg.eigsh(H, which='SA')\n",
    "        psi0 = vecs[:, 0]\n",
    "        z = omegas + E0[0] + epsilon*1j\n",
    "\n",
    "        Is = []\n",
    "        for Splus_k in tqdm(Splus_ks):\n",
    "            phik = Splus_k @ psi0\n",
    "            Tphi, Bphi = lanczos(phik, H, N=200, stabilize=True)\n",
    "\n",
    "            I = recurssion_wrapper(z, Tphi, L)\n",
    "            Is.append(I)\n",
    "\n",
    "        print(len(ks), len(omegas), np.array(Is).shape)\n",
    "        plt.figure()\n",
    "        colorplot(ks, omegas, Is)"
   ],
   "metadata": {
    "collapsed": false,
    "pycharm": {
     "name": "#%%\n"
    }
   }
  },
  {
   "cell_type": "code",
   "execution_count": null,
   "outputs": [],
   "source": [],
   "metadata": {
    "collapsed": false,
    "pycharm": {
     "name": "#%%\n"
    }
   }
  },
  {
   "cell_type": "code",
   "execution_count": null,
   "outputs": [],
   "source": [],
   "metadata": {
    "collapsed": false,
    "pycharm": {
     "name": "#%%\n"
    }
   }
  },
  {
   "cell_type": "code",
   "execution_count": null,
   "outputs": [],
   "source": [],
   "metadata": {
    "collapsed": false,
    "pycharm": {
     "name": "#%%\n"
    }
   }
  },
  {
   "cell_type": "code",
   "execution_count": null,
   "outputs": [],
   "source": [],
   "metadata": {
    "collapsed": false,
    "pycharm": {
     "name": "#%%\n"
    }
   }
  },
  {
   "cell_type": "code",
   "execution_count": null,
   "outputs": [],
   "source": [],
   "metadata": {
    "collapsed": false,
    "pycharm": {
     "name": "#%%\n"
    }
   }
  },
  {
   "cell_type": "code",
   "execution_count": null,
   "outputs": [],
   "source": [],
   "metadata": {
    "collapsed": false,
    "pycharm": {
     "name": "#%%\n"
    }
   }
  },
  {
   "cell_type": "code",
   "execution_count": null,
   "outputs": [],
   "source": [],
   "metadata": {
    "collapsed": false,
    "pycharm": {
     "name": "#%%\n"
    }
   }
  }
 ],
 "metadata": {
  "kernelspec": {
   "name": "python3",
   "language": "python",
   "display_name": "Python 3"
  },
  "language_info": {
   "codemirror_mode": {
    "name": "ipython",
    "version": 2
   },
   "file_extension": ".py",
   "mimetype": "text/x-python",
   "name": "python",
   "nbconvert_exporter": "python",
   "pygments_lexer": "ipython2",
   "version": "2.7.6"
  }
 },
 "nbformat": 4,
 "nbformat_minor": 0
}