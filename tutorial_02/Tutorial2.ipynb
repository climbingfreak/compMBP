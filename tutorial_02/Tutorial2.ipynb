{
 "cells": [
  {
   "cell_type": "markdown",
   "source": [
    "# Tutorial 2: Swendsen-Wang Algorithm"
   ],
   "metadata": {
    "collapsed": false,
    "pycharm": {
     "name": "#%% md\n"
    }
   }
  },
  {
   "cell_type": "code",
   "execution_count": 1,
   "outputs": [],
   "source": [
    "import numpy as np\n",
    "from scipy import constants, sparse\n",
    "import matplotlib.pyplot as plt\n",
    "from tqdm.notebook import tqdm\n",
    "from numba import jit\n",
    "\n",
    "plt.style.use(\"dark_background\")"
   ],
   "metadata": {
    "collapsed": false,
    "pycharm": {
     "name": "#%%\n"
    }
   }
  },
  {
   "cell_type": "code",
   "execution_count": 81,
   "metadata": {
    "collapsed": true,
    "pycharm": {
     "name": "#%%\n"
    }
   },
   "outputs": [],
   "source": [
    "@jit(nopython=True)\n",
    "def index1D(L_y, x, y):\n",
    "    return x * L_y + y\n",
    "\n",
    "@jit(nopython=True)\n",
    "def index2D(L_y, n):\n",
    "    return n // L_y, n % L_y\n"
   ]
  },
  {
   "cell_type": "code",
   "execution_count": 82,
   "outputs": [
    {
     "name": "stdout",
     "output_type": "stream",
     "text": [
      "[[0 1]\n",
      " [0 3]\n",
      " [1 2]\n",
      " [1 4]\n",
      " [2 0]\n",
      " [2 5]\n",
      " [3 4]\n",
      " [3 6]\n",
      " [4 5]\n",
      " [4 7]\n",
      " [5 3]\n",
      " [5 8]\n",
      " [6 7]\n",
      " [6 0]\n",
      " [7 8]\n",
      " [7 1]\n",
      " [8 6]\n",
      " [8 2]]\n"
     ]
    }
   ],
   "source": [
    "# a)\n",
    "@jit(nopython=True)\n",
    "def get_bond_array(L_x, L_y):\n",
    "    nodes = np.arange(L_x * L_y)\n",
    "    bonds = np.zeros((len(nodes)*2, 2), dtype=np.int16)\n",
    "\n",
    "    for i, n in enumerate(nodes):\n",
    "        x,y = index2D(L_y, n)\n",
    "        x_neighbour = (x+1) % L_x\n",
    "        y_neighbour = (y+1) % L_y\n",
    "        bonds[2*i] = np.array([n, index1D(L_y, x, y_neighbour)])\n",
    "        bonds[2*i+1] = np.array([n, index1D(L_y, x_neighbour, y)])\n",
    "\n",
    "    return bonds\n",
    "\n",
    "print(get_bond_array(3,3))"
   ],
   "metadata": {
    "collapsed": false,
    "pycharm": {
     "name": "#%%\n"
    }
   }
  },
  {
   "cell_type": "code",
   "execution_count": 83,
   "outputs": [],
   "source": [
    "L_x = 5 #side length of lattice\n",
    "L_y = 5\n",
    "\n",
    "bonds = get_bond_array(L_x, L_y)"
   ],
   "metadata": {
    "collapsed": false,
    "pycharm": {
     "name": "#%%\n"
    }
   }
  },
  {
   "cell_type": "code",
   "execution_count": 84,
   "outputs": [],
   "source": [
    "# b)\n",
    "\n",
    "L_x = 5\n",
    "L_y = 5\n",
    "N = L_x*L_y\n",
    "bonds = get_bond_array(L_x, L_y)\n",
    "spins = np.random.randint(0, 2, size=N) * 2 - 1\n"
   ],
   "metadata": {
    "collapsed": false,
    "pycharm": {
     "name": "#%%\n"
    }
   }
  },
  {
   "cell_type": "code",
   "execution_count": 85,
   "outputs": [],
   "source": [
    "# c)\n",
    "\n",
    "@jit(nopython=True)\n",
    "def assign_weights(bonds, spins, J=1, T=4.2):\n",
    "    w_bs = []\n",
    "    for b in bonds:\n",
    "        s1 = spins[b[0]]\n",
    "        s2 = spins[b[1]]\n",
    "\n",
    "        w_b=1\n",
    "\n",
    "        if s1*s2 == -1:\n",
    "            w_b=0\n",
    "        elif np.exp(-2.*J/T) > np.random.rand():\n",
    "            w_b=0\n",
    "\n",
    "        w_bs.append(w_b)\n",
    "    return w_bs"
   ],
   "metadata": {
    "collapsed": false,
    "pycharm": {
     "name": "#%%\n"
    }
   }
  },
  {
   "cell_type": "code",
   "execution_count": 92,
   "outputs": [],
   "source": [
    "# d)\n",
    "L_x = 5\n",
    "L_y = 5\n",
    "\n",
    "spins = np.random.randint(0, 2, size=L_x * L_y) * 2 - 1\n",
    "bonds = get_bond_array(L_x, L_y)\n",
    "\n",
    "\n",
    "def flip_cluster(spins, bonds, L_x, L_y, T):\n",
    "    N = L_x * L_y\n",
    "    weights = assign_weights(bonds, spins, T)\n",
    "\n",
    "    # scipy.sparse is not compatible with numba ... :(\n",
    "    graph = sparse.csr_matrix((weights, (bonds[:,0], bonds[:,1])), shape=(N,N))\n",
    "    graph_combined = graph+graph.T\n",
    "\n",
    "    cluster_cnt, cluster_labels = sparse.csgraph.connected_components(graph_combined, directed=False)\n",
    "\n",
    "   # flipping the actual clusters\n",
    "    for cluster in range(1,cluster_cnt):\n",
    "        if np.random.rand() > 0.5:\n",
    "            spins[cluster_labels == cluster] *= 1\n",
    "\n",
    "    # flipping the single member clusters\n",
    "    for idx in range(len(spins)):\n",
    "        if not cluster_labels[idx]:\n",
    "            if np.random.rand() > 0.5:\n",
    "                spins[idx] *= -1\n",
    "\n",
    "    return spins"
   ],
   "metadata": {
    "collapsed": false,
    "pycharm": {
     "name": "#%%\n"
    }
   }
  },
  {
   "cell_type": "code",
   "execution_count": 93,
   "outputs": [],
   "source": [
    "# e)\n",
    "@jit(nopython=True)\n",
    "def system_energy(spins, bonds, J=1):\n",
    "    return J * np.sum(spins[bonds[:,0]]*spins[bonds[:,1]])\n",
    "\n",
    "\n",
    "@jit(nopython=True)\n",
    "def system_magnetization(spins):\n",
    "    return np.sum(spins)\n",
    "\n",
    "E = system_energy(spins, bonds)\n",
    "M = system_magnetization(spins)\n"
   ],
   "metadata": {
    "collapsed": false,
    "pycharm": {
     "name": "#%%\n"
    }
   }
  },
  {
   "cell_type": "code",
   "execution_count": 94,
   "outputs": [],
   "source": [
    "#f)\n",
    "\n",
    "\n",
    "def run_mc(T, L_x=6, L_y=6):\n",
    "\n",
    "    spins = np.random.randint(0, 2, size=L_x * L_y) * 2 - 1\n",
    "    bonds = get_bond_array(L_x, L_y)\n",
    "\n",
    "    N_eq = 500\n",
    "    N_flips = 2000\n",
    "    N_sweeps = 20\n",
    "\n",
    "    Es = [] # energies\n",
    "    Ms = [] # magnetizations\n",
    "    Iterations = []\n",
    "\n",
    "    for i in range(N_flips):\n",
    "        flip_cluster(spins, bonds, L_x, L_y, T)\n",
    "\n",
    "        if i < N_eq:\n",
    "            continue\n",
    "\n",
    "        if N_flips % N_sweeps == 0:\n",
    "            Es.append(system_energy(spins, bonds))\n",
    "            Ms.append(system_magnetization(spins))\n",
    "            Iterations.append(i)\n",
    "\n",
    "\n",
    "\n",
    "    return np.mean(Es), np.mean(Ms), np.std(Es), np.std(Ms), len(Es)\n",
    "\n",
    "\n",
    "def run_temperatures(Ts):\n",
    "    Es = []\n",
    "    Ms = []\n",
    "    dEs = []\n",
    "    dMs = []\n",
    "\n",
    "    for T in Ts:\n",
    "        #print(\"Running temperature {}\".format(T))\n",
    "        E, M, dE, dM, cnt = run_mc(T)\n",
    "        Es.append(E)\n",
    "        Ms.append(M)\n",
    "        dEs.append(dE)\n",
    "        dMs.append(dM)\n",
    "\n",
    "\n",
    "    return Es, Ms, dEs, dMs, cnt\n",
    "\n",
    "\n",
    "def make_plots(Ts, Es, Ms, cnt):\n",
    "    plt.plot(Ts, Es, \"-o\", label=\"Energy mean over {} measurements\".format(cnt))\n",
    "    plt.xlabel(\"Temperature\")\n",
    "    plt.ylabel(\"Energy\")\n",
    "    plt.title(\"Energy mean Values\")\n",
    "    plt.legend()\n",
    "\n",
    "    plt.figure()\n",
    "    plt.plot(Ts, Ms, \"-o\", label=\"Magnetization mean over {} measurements\".format(cnt))\n",
    "\n",
    "    plt.xlabel(\"Temperature\")\n",
    "    plt.ylabel(\"Magentization\")\n",
    "    plt.title(\"Magnetization mean Values\")\n",
    "    plt.legend()\n",
    "\n",
    "    plt.show()\n"
   ],
   "metadata": {
    "collapsed": false,
    "pycharm": {
     "name": "#%%\n"
    }
   }
  },
  {
   "cell_type": "code",
   "execution_count": 89,
   "outputs": [
    {
     "ename": "TypingError",
     "evalue": "Failed in nopython mode pipeline (step: nopython frontend)\nFailed in nopython mode pipeline (step: nopython frontend)\nUnknown attribute 'csr_matrix' of type Module(<module 'scipy.sparse' from '/Users/konstantinneureither/OneDrive/DOKUMENTE/1_STUDIUM/02_MASTER/2021_SS/01_ComputationalManyBodyPhysics/tutorial/compMBP/venv/lib/python3.8/site-packages/scipy/sparse/__init__.py'>)\n\nFile \"<ipython-input-86-a24a8627e929>\", line 14:\ndef flip_cluster(spins, bonds, L_x, L_y, T):\n    <source elided>\n\n    graph = sparse.csr_matrix((weights, (bonds[:,0], bonds[:,1])), shape=(N,N))\n    ^\n\nDuring: typing of get attribute at <ipython-input-86-a24a8627e929> (14)\n\nFile \"<ipython-input-86-a24a8627e929>\", line 14:\ndef flip_cluster(spins, bonds, L_x, L_y, T):\n    <source elided>\n\n    graph = sparse.csr_matrix((weights, (bonds[:,0], bonds[:,1])), shape=(N,N))\n    ^\n\nDuring: resolving callee type: type(CPUDispatcher(<function flip_cluster at 0x13d391ca0>))\nDuring: typing of call at <ipython-input-88-c872c62c1b22> (18)\n\nDuring: resolving callee type: type(CPUDispatcher(<function flip_cluster at 0x13d391ca0>))\nDuring: typing of call at <ipython-input-88-c872c62c1b22> (18)\n\nDuring: resolving callee type: type(CPUDispatcher(<function flip_cluster at 0x13d391ca0>))\nDuring: typing of call at <ipython-input-88-c872c62c1b22> (18)\n\n\nFile \"<ipython-input-88-c872c62c1b22>\", line 18:\ndef run_mc(T, L_x=6, L_y=6):\n    <source elided>\n    for i in range(N_flips):\n        flip_cluster(spins, bonds, L_x, L_y, T)\n        ^\n",
     "output_type": "error",
     "traceback": [
      "\u001B[0;31m---------------------------------------------------------------------------\u001B[0m",
      "\u001B[0;31mTypingError\u001B[0m                               Traceback (most recent call last)",
      "\u001B[0;32m<ipython-input-89-12ce92703192>\u001B[0m in \u001B[0;36m<module>\u001B[0;34m\u001B[0m\n\u001B[1;32m      1\u001B[0m \u001B[0mTs\u001B[0m \u001B[0;34m=\u001B[0m \u001B[0mnp\u001B[0m\u001B[0;34m.\u001B[0m\u001B[0marange\u001B[0m\u001B[0;34m(\u001B[0m\u001B[0;36m0.5\u001B[0m\u001B[0;34m,\u001B[0m \u001B[0;36m2.5\u001B[0m\u001B[0;34m,\u001B[0m \u001B[0;36m0.2\u001B[0m\u001B[0;34m)\u001B[0m\u001B[0;34m\u001B[0m\u001B[0;34m\u001B[0m\u001B[0m\n\u001B[0;32m----> 2\u001B[0;31m \u001B[0mEs\u001B[0m\u001B[0;34m,\u001B[0m \u001B[0mMs\u001B[0m\u001B[0;34m,\u001B[0m \u001B[0mdEs\u001B[0m\u001B[0;34m,\u001B[0m \u001B[0mdMs\u001B[0m\u001B[0;34m,\u001B[0m \u001B[0mcnt\u001B[0m \u001B[0;34m=\u001B[0m \u001B[0mrun_temperatures\u001B[0m\u001B[0;34m(\u001B[0m\u001B[0mTs\u001B[0m\u001B[0;34m)\u001B[0m\u001B[0;34m\u001B[0m\u001B[0;34m\u001B[0m\u001B[0m\n\u001B[0m\u001B[1;32m      3\u001B[0m \u001B[0;34m\u001B[0m\u001B[0m\n",
      "\u001B[0;32m<ipython-input-88-c872c62c1b22>\u001B[0m in \u001B[0;36mrun_temperatures\u001B[0;34m(Ts)\u001B[0m\n\u001B[1;32m     39\u001B[0m     \u001B[0;32mfor\u001B[0m \u001B[0mT\u001B[0m \u001B[0;32min\u001B[0m \u001B[0mTs\u001B[0m\u001B[0;34m:\u001B[0m\u001B[0;34m\u001B[0m\u001B[0;34m\u001B[0m\u001B[0m\n\u001B[1;32m     40\u001B[0m         \u001B[0;31m#print(\"Running temperature {}\".format(T))\u001B[0m\u001B[0;34m\u001B[0m\u001B[0;34m\u001B[0m\u001B[0;34m\u001B[0m\u001B[0m\n\u001B[0;32m---> 41\u001B[0;31m         \u001B[0mE\u001B[0m\u001B[0;34m,\u001B[0m \u001B[0mM\u001B[0m\u001B[0;34m,\u001B[0m \u001B[0mdE\u001B[0m\u001B[0;34m,\u001B[0m \u001B[0mdM\u001B[0m\u001B[0;34m,\u001B[0m \u001B[0mcnt\u001B[0m \u001B[0;34m=\u001B[0m \u001B[0mrun_mc\u001B[0m\u001B[0;34m(\u001B[0m\u001B[0mT\u001B[0m\u001B[0;34m)\u001B[0m\u001B[0;34m\u001B[0m\u001B[0;34m\u001B[0m\u001B[0m\n\u001B[0m\u001B[1;32m     42\u001B[0m         \u001B[0mEs\u001B[0m\u001B[0;34m.\u001B[0m\u001B[0mappend\u001B[0m\u001B[0;34m(\u001B[0m\u001B[0mE\u001B[0m\u001B[0;34m)\u001B[0m\u001B[0;34m\u001B[0m\u001B[0;34m\u001B[0m\u001B[0m\n\u001B[1;32m     43\u001B[0m         \u001B[0mMs\u001B[0m\u001B[0;34m.\u001B[0m\u001B[0mappend\u001B[0m\u001B[0;34m(\u001B[0m\u001B[0mM\u001B[0m\u001B[0;34m)\u001B[0m\u001B[0;34m\u001B[0m\u001B[0;34m\u001B[0m\u001B[0m\n",
      "\u001B[0;32m~/OneDrive/DOKUMENTE/1_STUDIUM/02_MASTER/2021_SS/01_ComputationalManyBodyPhysics/tutorial/compMBP/venv/lib/python3.8/site-packages/numba/core/dispatcher.py\u001B[0m in \u001B[0;36m_compile_for_args\u001B[0;34m(self, *args, **kws)\u001B[0m\n\u001B[1;32m    418\u001B[0m                 \u001B[0me\u001B[0m\u001B[0;34m.\u001B[0m\u001B[0mpatch_message\u001B[0m\u001B[0;34m(\u001B[0m\u001B[0mmsg\u001B[0m\u001B[0;34m)\u001B[0m\u001B[0;34m\u001B[0m\u001B[0;34m\u001B[0m\u001B[0m\n\u001B[1;32m    419\u001B[0m \u001B[0;34m\u001B[0m\u001B[0m\n\u001B[0;32m--> 420\u001B[0;31m             \u001B[0merror_rewrite\u001B[0m\u001B[0;34m(\u001B[0m\u001B[0me\u001B[0m\u001B[0;34m,\u001B[0m \u001B[0;34m'typing'\u001B[0m\u001B[0;34m)\u001B[0m\u001B[0;34m\u001B[0m\u001B[0;34m\u001B[0m\u001B[0m\n\u001B[0m\u001B[1;32m    421\u001B[0m         \u001B[0;32mexcept\u001B[0m \u001B[0merrors\u001B[0m\u001B[0;34m.\u001B[0m\u001B[0mUnsupportedError\u001B[0m \u001B[0;32mas\u001B[0m \u001B[0me\u001B[0m\u001B[0;34m:\u001B[0m\u001B[0;34m\u001B[0m\u001B[0;34m\u001B[0m\u001B[0m\n\u001B[1;32m    422\u001B[0m             \u001B[0;31m# Something unsupported is present in the user code, add help info\u001B[0m\u001B[0;34m\u001B[0m\u001B[0;34m\u001B[0m\u001B[0;34m\u001B[0m\u001B[0m\n",
      "\u001B[0;32m~/OneDrive/DOKUMENTE/1_STUDIUM/02_MASTER/2021_SS/01_ComputationalManyBodyPhysics/tutorial/compMBP/venv/lib/python3.8/site-packages/numba/core/dispatcher.py\u001B[0m in \u001B[0;36merror_rewrite\u001B[0;34m(e, issue_type)\u001B[0m\n\u001B[1;32m    359\u001B[0m                 \u001B[0;32mraise\u001B[0m \u001B[0me\u001B[0m\u001B[0;34m\u001B[0m\u001B[0;34m\u001B[0m\u001B[0m\n\u001B[1;32m    360\u001B[0m             \u001B[0;32melse\u001B[0m\u001B[0;34m:\u001B[0m\u001B[0;34m\u001B[0m\u001B[0;34m\u001B[0m\u001B[0m\n\u001B[0;32m--> 361\u001B[0;31m                 \u001B[0;32mraise\u001B[0m \u001B[0me\u001B[0m\u001B[0;34m.\u001B[0m\u001B[0mwith_traceback\u001B[0m\u001B[0;34m(\u001B[0m\u001B[0;32mNone\u001B[0m\u001B[0;34m)\u001B[0m\u001B[0;34m\u001B[0m\u001B[0;34m\u001B[0m\u001B[0m\n\u001B[0m\u001B[1;32m    362\u001B[0m \u001B[0;34m\u001B[0m\u001B[0m\n\u001B[1;32m    363\u001B[0m         \u001B[0margtypes\u001B[0m \u001B[0;34m=\u001B[0m \u001B[0;34m[\u001B[0m\u001B[0;34m]\u001B[0m\u001B[0;34m\u001B[0m\u001B[0;34m\u001B[0m\u001B[0m\n",
      "\u001B[0;31mTypingError\u001B[0m: Failed in nopython mode pipeline (step: nopython frontend)\nFailed in nopython mode pipeline (step: nopython frontend)\nUnknown attribute 'csr_matrix' of type Module(<module 'scipy.sparse' from '/Users/konstantinneureither/OneDrive/DOKUMENTE/1_STUDIUM/02_MASTER/2021_SS/01_ComputationalManyBodyPhysics/tutorial/compMBP/venv/lib/python3.8/site-packages/scipy/sparse/__init__.py'>)\n\nFile \"<ipython-input-86-a24a8627e929>\", line 14:\ndef flip_cluster(spins, bonds, L_x, L_y, T):\n    <source elided>\n\n    graph = sparse.csr_matrix((weights, (bonds[:,0], bonds[:,1])), shape=(N,N))\n    ^\n\nDuring: typing of get attribute at <ipython-input-86-a24a8627e929> (14)\n\nFile \"<ipython-input-86-a24a8627e929>\", line 14:\ndef flip_cluster(spins, bonds, L_x, L_y, T):\n    <source elided>\n\n    graph = sparse.csr_matrix((weights, (bonds[:,0], bonds[:,1])), shape=(N,N))\n    ^\n\nDuring: resolving callee type: type(CPUDispatcher(<function flip_cluster at 0x13d391ca0>))\nDuring: typing of call at <ipython-input-88-c872c62c1b22> (18)\n\nDuring: resolving callee type: type(CPUDispatcher(<function flip_cluster at 0x13d391ca0>))\nDuring: typing of call at <ipython-input-88-c872c62c1b22> (18)\n\nDuring: resolving callee type: type(CPUDispatcher(<function flip_cluster at 0x13d391ca0>))\nDuring: typing of call at <ipython-input-88-c872c62c1b22> (18)\n\n\nFile \"<ipython-input-88-c872c62c1b22>\", line 18:\ndef run_mc(T, L_x=6, L_y=6):\n    <source elided>\n    for i in range(N_flips):\n        flip_cluster(spins, bonds, L_x, L_y, T)\n        ^\n"
     ]
    }
   ],
   "source": [
    "Ts = np.arange(0.5, 2.5, 0.2)\n",
    "Es, Ms, dEs, dMs, cnt = run_temperatures(Ts)"
   ],
   "metadata": {
    "collapsed": false,
    "pycharm": {
     "name": "#%%\n"
    }
   }
  },
  {
   "cell_type": "code",
   "execution_count": 61,
   "outputs": [
    {
     "data": {
      "text/plain": "<Figure size 432x288 with 1 Axes>",
      "image/png": "[encoded data removed]"
     },
     "metadata": {},
     "output_type": "display_data"
    },
    {
     "data": {
      "text/plain": "<Figure size 432x288 with 1 Axes>",
      "image/png": "[encoded data removed]"
     },
     "metadata": {},
     "output_type": "display_data"
    }
   ],
   "source": [
    "make_plots(Ts, Es, Ms, cnt)"
   ],
   "metadata": {
    "collapsed": false,
    "pycharm": {
     "name": "#%%\n"
    }
   }
  },
  {
   "cell_type": "code",
   "execution_count": 96,
   "outputs": [],
   "source": [
    "Ts = np.arange(1.7, 2.7, .05)\n",
    "Es, Ms, dEs, dMs, cnt = run_temperatures(Ts)"
   ],
   "metadata": {
    "collapsed": false,
    "pycharm": {
     "name": "#%%\n"
    }
   }
  },
  {
   "cell_type": "code",
   "execution_count": 63,
   "outputs": [
    {
     "ename": "ValueError",
     "evalue": "x and y must have same first dimension, but have shapes (21,) and (10,)",
     "output_type": "error",
     "traceback": [
      "\u001B[0;31m---------------------------------------------------------------------------\u001B[0m",
      "\u001B[0;31mValueError\u001B[0m                                Traceback (most recent call last)",
      "\u001B[0;32m<ipython-input-63-c4e0ce7d782f>\u001B[0m in \u001B[0;36m<module>\u001B[0;34m\u001B[0m\n\u001B[0;32m----> 1\u001B[0;31m \u001B[0mmake_plots\u001B[0m\u001B[0;34m(\u001B[0m\u001B[0mTs\u001B[0m\u001B[0;34m,\u001B[0m \u001B[0mEs\u001B[0m\u001B[0;34m,\u001B[0m \u001B[0mMs\u001B[0m\u001B[0;34m,\u001B[0m \u001B[0mcnt\u001B[0m\u001B[0;34m)\u001B[0m\u001B[0;34m\u001B[0m\u001B[0;34m\u001B[0m\u001B[0m\n\u001B[0m\u001B[1;32m      2\u001B[0m \u001B[0;34m\u001B[0m\u001B[0m\n",
      "\u001B[0;32m<ipython-input-59-c872c62c1b22>\u001B[0m in \u001B[0;36mmake_plots\u001B[0;34m(Ts, Es, Ms, cnt)\u001B[0m\n\u001B[1;32m     50\u001B[0m \u001B[0;34m\u001B[0m\u001B[0m\n\u001B[1;32m     51\u001B[0m \u001B[0;32mdef\u001B[0m \u001B[0mmake_plots\u001B[0m\u001B[0;34m(\u001B[0m\u001B[0mTs\u001B[0m\u001B[0;34m,\u001B[0m \u001B[0mEs\u001B[0m\u001B[0;34m,\u001B[0m \u001B[0mMs\u001B[0m\u001B[0;34m,\u001B[0m \u001B[0mcnt\u001B[0m\u001B[0;34m)\u001B[0m\u001B[0;34m:\u001B[0m\u001B[0;34m\u001B[0m\u001B[0;34m\u001B[0m\u001B[0m\n\u001B[0;32m---> 52\u001B[0;31m     \u001B[0mplt\u001B[0m\u001B[0;34m.\u001B[0m\u001B[0mplot\u001B[0m\u001B[0;34m(\u001B[0m\u001B[0mTs\u001B[0m\u001B[0;34m,\u001B[0m \u001B[0mEs\u001B[0m\u001B[0;34m,\u001B[0m \u001B[0;34m\"-o\"\u001B[0m\u001B[0;34m,\u001B[0m \u001B[0mlabel\u001B[0m\u001B[0;34m=\u001B[0m\u001B[0;34m\"Energy mean over {} measurements\"\u001B[0m\u001B[0;34m.\u001B[0m\u001B[0mformat\u001B[0m\u001B[0;34m(\u001B[0m\u001B[0mcnt\u001B[0m\u001B[0;34m)\u001B[0m\u001B[0;34m)\u001B[0m\u001B[0;34m\u001B[0m\u001B[0;34m\u001B[0m\u001B[0m\n\u001B[0m\u001B[1;32m     53\u001B[0m     \u001B[0mplt\u001B[0m\u001B[0;34m.\u001B[0m\u001B[0mxlabel\u001B[0m\u001B[0;34m(\u001B[0m\u001B[0;34m\"Temperature\"\u001B[0m\u001B[0;34m)\u001B[0m\u001B[0;34m\u001B[0m\u001B[0;34m\u001B[0m\u001B[0m\n\u001B[1;32m     54\u001B[0m     \u001B[0mplt\u001B[0m\u001B[0;34m.\u001B[0m\u001B[0mylabel\u001B[0m\u001B[0;34m(\u001B[0m\u001B[0;34m\"Energy\"\u001B[0m\u001B[0;34m)\u001B[0m\u001B[0;34m\u001B[0m\u001B[0;34m\u001B[0m\u001B[0m\n",
      "\u001B[0;32m~/OneDrive/DOKUMENTE/1_STUDIUM/02_MASTER/2021_SS/01_ComputationalManyBodyPhysics/tutorial/compMBP/venv/lib/python3.8/site-packages/matplotlib/pyplot.py\u001B[0m in \u001B[0;36mplot\u001B[0;34m(scalex, scaley, data, *args, **kwargs)\u001B[0m\n\u001B[1;32m   2986\u001B[0m \u001B[0;34m@\u001B[0m\u001B[0m_copy_docstring_and_deprecators\u001B[0m\u001B[0;34m(\u001B[0m\u001B[0mAxes\u001B[0m\u001B[0;34m.\u001B[0m\u001B[0mplot\u001B[0m\u001B[0;34m)\u001B[0m\u001B[0;34m\u001B[0m\u001B[0;34m\u001B[0m\u001B[0m\n\u001B[1;32m   2987\u001B[0m \u001B[0;32mdef\u001B[0m \u001B[0mplot\u001B[0m\u001B[0;34m(\u001B[0m\u001B[0;34m*\u001B[0m\u001B[0margs\u001B[0m\u001B[0;34m,\u001B[0m \u001B[0mscalex\u001B[0m\u001B[0;34m=\u001B[0m\u001B[0;32mTrue\u001B[0m\u001B[0;34m,\u001B[0m \u001B[0mscaley\u001B[0m\u001B[0;34m=\u001B[0m\u001B[0;32mTrue\u001B[0m\u001B[0;34m,\u001B[0m \u001B[0mdata\u001B[0m\u001B[0;34m=\u001B[0m\u001B[0;32mNone\u001B[0m\u001B[0;34m,\u001B[0m \u001B[0;34m**\u001B[0m\u001B[0mkwargs\u001B[0m\u001B[0;34m)\u001B[0m\u001B[0;34m:\u001B[0m\u001B[0;34m\u001B[0m\u001B[0;34m\u001B[0m\u001B[0m\n\u001B[0;32m-> 2988\u001B[0;31m     return gca().plot(\n\u001B[0m\u001B[1;32m   2989\u001B[0m         \u001B[0;34m*\u001B[0m\u001B[0margs\u001B[0m\u001B[0;34m,\u001B[0m \u001B[0mscalex\u001B[0m\u001B[0;34m=\u001B[0m\u001B[0mscalex\u001B[0m\u001B[0;34m,\u001B[0m \u001B[0mscaley\u001B[0m\u001B[0;34m=\u001B[0m\u001B[0mscaley\u001B[0m\u001B[0;34m,\u001B[0m\u001B[0;34m\u001B[0m\u001B[0;34m\u001B[0m\u001B[0m\n\u001B[1;32m   2990\u001B[0m         **({\"data\": data} if data is not None else {}), **kwargs)\n",
      "\u001B[0;32m~/OneDrive/DOKUMENTE/1_STUDIUM/02_MASTER/2021_SS/01_ComputationalManyBodyPhysics/tutorial/compMBP/venv/lib/python3.8/site-packages/matplotlib/axes/_axes.py\u001B[0m in \u001B[0;36mplot\u001B[0;34m(self, scalex, scaley, data, *args, **kwargs)\u001B[0m\n\u001B[1;32m   1603\u001B[0m         \"\"\"\n\u001B[1;32m   1604\u001B[0m         \u001B[0mkwargs\u001B[0m \u001B[0;34m=\u001B[0m \u001B[0mcbook\u001B[0m\u001B[0;34m.\u001B[0m\u001B[0mnormalize_kwargs\u001B[0m\u001B[0;34m(\u001B[0m\u001B[0mkwargs\u001B[0m\u001B[0;34m,\u001B[0m \u001B[0mmlines\u001B[0m\u001B[0;34m.\u001B[0m\u001B[0mLine2D\u001B[0m\u001B[0;34m)\u001B[0m\u001B[0;34m\u001B[0m\u001B[0;34m\u001B[0m\u001B[0m\n\u001B[0;32m-> 1605\u001B[0;31m         \u001B[0mlines\u001B[0m \u001B[0;34m=\u001B[0m \u001B[0;34m[\u001B[0m\u001B[0;34m*\u001B[0m\u001B[0mself\u001B[0m\u001B[0;34m.\u001B[0m\u001B[0m_get_lines\u001B[0m\u001B[0;34m(\u001B[0m\u001B[0;34m*\u001B[0m\u001B[0margs\u001B[0m\u001B[0;34m,\u001B[0m \u001B[0mdata\u001B[0m\u001B[0;34m=\u001B[0m\u001B[0mdata\u001B[0m\u001B[0;34m,\u001B[0m \u001B[0;34m**\u001B[0m\u001B[0mkwargs\u001B[0m\u001B[0;34m)\u001B[0m\u001B[0;34m]\u001B[0m\u001B[0;34m\u001B[0m\u001B[0;34m\u001B[0m\u001B[0m\n\u001B[0m\u001B[1;32m   1606\u001B[0m         \u001B[0;32mfor\u001B[0m \u001B[0mline\u001B[0m \u001B[0;32min\u001B[0m \u001B[0mlines\u001B[0m\u001B[0;34m:\u001B[0m\u001B[0;34m\u001B[0m\u001B[0;34m\u001B[0m\u001B[0m\n\u001B[1;32m   1607\u001B[0m             \u001B[0mself\u001B[0m\u001B[0;34m.\u001B[0m\u001B[0madd_line\u001B[0m\u001B[0;34m(\u001B[0m\u001B[0mline\u001B[0m\u001B[0;34m)\u001B[0m\u001B[0;34m\u001B[0m\u001B[0;34m\u001B[0m\u001B[0m\n",
      "\u001B[0;32m~/OneDrive/DOKUMENTE/1_STUDIUM/02_MASTER/2021_SS/01_ComputationalManyBodyPhysics/tutorial/compMBP/venv/lib/python3.8/site-packages/matplotlib/axes/_base.py\u001B[0m in \u001B[0;36m__call__\u001B[0;34m(self, data, *args, **kwargs)\u001B[0m\n\u001B[1;32m    313\u001B[0m                 \u001B[0mthis\u001B[0m \u001B[0;34m+=\u001B[0m \u001B[0margs\u001B[0m\u001B[0;34m[\u001B[0m\u001B[0;36m0\u001B[0m\u001B[0;34m]\u001B[0m\u001B[0;34m,\u001B[0m\u001B[0;34m\u001B[0m\u001B[0;34m\u001B[0m\u001B[0m\n\u001B[1;32m    314\u001B[0m                 \u001B[0margs\u001B[0m \u001B[0;34m=\u001B[0m \u001B[0margs\u001B[0m\u001B[0;34m[\u001B[0m\u001B[0;36m1\u001B[0m\u001B[0;34m:\u001B[0m\u001B[0;34m]\u001B[0m\u001B[0;34m\u001B[0m\u001B[0;34m\u001B[0m\u001B[0m\n\u001B[0;32m--> 315\u001B[0;31m             \u001B[0;32myield\u001B[0m \u001B[0;32mfrom\u001B[0m \u001B[0mself\u001B[0m\u001B[0;34m.\u001B[0m\u001B[0m_plot_args\u001B[0m\u001B[0;34m(\u001B[0m\u001B[0mthis\u001B[0m\u001B[0;34m,\u001B[0m \u001B[0mkwargs\u001B[0m\u001B[0;34m)\u001B[0m\u001B[0;34m\u001B[0m\u001B[0;34m\u001B[0m\u001B[0m\n\u001B[0m\u001B[1;32m    316\u001B[0m \u001B[0;34m\u001B[0m\u001B[0m\n\u001B[1;32m    317\u001B[0m     \u001B[0;32mdef\u001B[0m \u001B[0mget_next_color\u001B[0m\u001B[0;34m(\u001B[0m\u001B[0mself\u001B[0m\u001B[0;34m)\u001B[0m\u001B[0;34m:\u001B[0m\u001B[0;34m\u001B[0m\u001B[0;34m\u001B[0m\u001B[0m\n",
      "\u001B[0;32m~/OneDrive/DOKUMENTE/1_STUDIUM/02_MASTER/2021_SS/01_ComputationalManyBodyPhysics/tutorial/compMBP/venv/lib/python3.8/site-packages/matplotlib/axes/_base.py\u001B[0m in \u001B[0;36m_plot_args\u001B[0;34m(self, tup, kwargs, return_kwargs)\u001B[0m\n\u001B[1;32m    499\u001B[0m \u001B[0;34m\u001B[0m\u001B[0m\n\u001B[1;32m    500\u001B[0m         \u001B[0;32mif\u001B[0m \u001B[0mx\u001B[0m\u001B[0;34m.\u001B[0m\u001B[0mshape\u001B[0m\u001B[0;34m[\u001B[0m\u001B[0;36m0\u001B[0m\u001B[0;34m]\u001B[0m \u001B[0;34m!=\u001B[0m \u001B[0my\u001B[0m\u001B[0;34m.\u001B[0m\u001B[0mshape\u001B[0m\u001B[0;34m[\u001B[0m\u001B[0;36m0\u001B[0m\u001B[0;34m]\u001B[0m\u001B[0;34m:\u001B[0m\u001B[0;34m\u001B[0m\u001B[0;34m\u001B[0m\u001B[0m\n\u001B[0;32m--> 501\u001B[0;31m             raise ValueError(f\"x and y must have same first dimension, but \"\n\u001B[0m\u001B[1;32m    502\u001B[0m                              f\"have shapes {x.shape} and {y.shape}\")\n\u001B[1;32m    503\u001B[0m         \u001B[0;32mif\u001B[0m \u001B[0mx\u001B[0m\u001B[0;34m.\u001B[0m\u001B[0mndim\u001B[0m \u001B[0;34m>\u001B[0m \u001B[0;36m2\u001B[0m \u001B[0;32mor\u001B[0m \u001B[0my\u001B[0m\u001B[0;34m.\u001B[0m\u001B[0mndim\u001B[0m \u001B[0;34m>\u001B[0m \u001B[0;36m2\u001B[0m\u001B[0;34m:\u001B[0m\u001B[0;34m\u001B[0m\u001B[0;34m\u001B[0m\u001B[0m\n",
      "\u001B[0;31mValueError\u001B[0m: x and y must have same first dimension, but have shapes (21,) and (10,)"
     ]
    },
    {
     "data": {
      "text/plain": "<Figure size 432x288 with 1 Axes>",
      "image/png": "[encoded data removed]"
     },
     "metadata": {},
     "output_type": "display_data"
    }
   ],
   "source": [
    "make_plots(Ts, Es, Ms, cnt)"
   ],
   "metadata": {
    "collapsed": false,
    "pycharm": {
     "name": "#%%\n"
    }
   }
  },
  {
   "cell_type": "code",
   "execution_count": 73,
   "outputs": [],
   "source": [
    "def run_system_sizes():\n",
    "    Ls = np.array([6,12,24])\n",
    "    Ts = np.arange(1.7, 2.7, .05)\n",
    "\n",
    "    Es = []\n",
    "    Ms = []\n",
    "    dEs = []\n",
    "    dMs = []\n",
    "\n",
    "    for L in tqdm(Ls):\n",
    "        es = []\n",
    "        ms = []\n",
    "        des = []\n",
    "        dms = []\n",
    "\n",
    "        for T in tqdm(Ts):\n",
    "            E, M, dE, dM, cnt = run_mc(T, L_x=L, L_y=L)\n",
    "\n",
    "            es.append(E)\n",
    "            ms.append(M)\n",
    "            des.append(dE)\n",
    "            dms.append(dM)\n",
    "\n",
    "        Es.append(es)\n",
    "        Ms.append(ms)\n",
    "        dEs.append(des)\n",
    "        dMs.append(dms)\n",
    "\n",
    "\n",
    "    for i, L in enumerate(Ls):\n",
    "        plt.errorbar(Ts, Es[i], yerr=dEs[i], label=\"L={}\".format(L))\n",
    "\n",
    "    plt.xlabel(\"Temperature\")\n",
    "    plt.ylabel(\"Energy / GeV\")\n",
    "    plt.title(\"Energy Mean Values (N={})\".format(cnt))\n",
    "    plt.legend()\n",
    "\n",
    "    plt.figure()\n",
    "    for i, L in enumerate(Ls):\n",
    "        plt.errorbar(Ts, Ms[i], yerr=dMs[i], label=\"L={}\".format(L))\n",
    "\n",
    "    plt.xlabel(\"Temperature\")\n",
    "    plt.ylabel(\"Magnetization\")\n",
    "    plt.title(\"Magnetization Mean Values (N={})\".format(cnt))\n",
    "    plt.legend()"
   ],
   "metadata": {
    "collapsed": false,
    "pycharm": {
     "name": "#%%\n"
    }
   }
  },
  {
   "cell_type": "code",
   "execution_count": 95,
   "outputs": [
    {
     "data": {
      "text/plain": "  0%|          | 0/3 [00:00<?, ?it/s]",
      "application/vnd.jupyter.widget-view+json": {
       "version_major": 2,
       "version_minor": 0,
       "model_id": "3f600763b7a1426492eb95f36026dd45"
      }
     },
     "metadata": {},
     "output_type": "display_data"
    },
    {
     "data": {
      "text/plain": "  0%|          | 0/21 [00:00<?, ?it/s]",
      "application/vnd.jupyter.widget-view+json": {
       "version_major": 2,
       "version_minor": 0,
       "model_id": "572d3e2076374c8db3d51824cd516a4d"
      }
     },
     "metadata": {},
     "output_type": "display_data"
    },
    {
     "data": {
      "text/plain": "  0%|          | 0/21 [00:00<?, ?it/s]",
      "application/vnd.jupyter.widget-view+json": {
       "version_major": 2,
       "version_minor": 0,
       "model_id": "877203e885ef4ffeadee6c48e78d3216"
      }
     },
     "metadata": {},
     "output_type": "display_data"
    },
    {
     "ename": "KeyboardInterrupt",
     "evalue": "",
     "output_type": "error",
     "traceback": [
      "\u001B[0;31m---------------------------------------------------------------------------\u001B[0m",
      "\u001B[0;31mKeyboardInterrupt\u001B[0m                         Traceback (most recent call last)",
      "\u001B[0;32m<ipython-input-95-aa265c45c09c>\u001B[0m in \u001B[0;36m<module>\u001B[0;34m\u001B[0m\n\u001B[0;32m----> 1\u001B[0;31m \u001B[0mrun_system_sizes\u001B[0m\u001B[0;34m(\u001B[0m\u001B[0;34m)\u001B[0m\u001B[0;34m\u001B[0m\u001B[0;34m\u001B[0m\u001B[0m\n\u001B[0m",
      "\u001B[0;32m<ipython-input-73-e23bac32d72f>\u001B[0m in \u001B[0;36mrun_system_sizes\u001B[0;34m()\u001B[0m\n\u001B[1;32m     15\u001B[0m \u001B[0;34m\u001B[0m\u001B[0m\n\u001B[1;32m     16\u001B[0m         \u001B[0;32mfor\u001B[0m \u001B[0mT\u001B[0m \u001B[0;32min\u001B[0m \u001B[0mtqdm\u001B[0m\u001B[0;34m(\u001B[0m\u001B[0mTs\u001B[0m\u001B[0;34m)\u001B[0m\u001B[0;34m:\u001B[0m\u001B[0;34m\u001B[0m\u001B[0;34m\u001B[0m\u001B[0m\n\u001B[0;32m---> 17\u001B[0;31m             \u001B[0mE\u001B[0m\u001B[0;34m,\u001B[0m \u001B[0mM\u001B[0m\u001B[0;34m,\u001B[0m \u001B[0mdE\u001B[0m\u001B[0;34m,\u001B[0m \u001B[0mdM\u001B[0m\u001B[0;34m,\u001B[0m \u001B[0mcnt\u001B[0m \u001B[0;34m=\u001B[0m \u001B[0mrun_mc\u001B[0m\u001B[0;34m(\u001B[0m\u001B[0mT\u001B[0m\u001B[0;34m,\u001B[0m \u001B[0mL_x\u001B[0m\u001B[0;34m=\u001B[0m\u001B[0mL\u001B[0m\u001B[0;34m,\u001B[0m \u001B[0mL_y\u001B[0m\u001B[0;34m=\u001B[0m\u001B[0mL\u001B[0m\u001B[0;34m)\u001B[0m\u001B[0;34m\u001B[0m\u001B[0;34m\u001B[0m\u001B[0m\n\u001B[0m\u001B[1;32m     18\u001B[0m \u001B[0;34m\u001B[0m\u001B[0m\n\u001B[1;32m     19\u001B[0m             \u001B[0mes\u001B[0m\u001B[0;34m.\u001B[0m\u001B[0mappend\u001B[0m\u001B[0;34m(\u001B[0m\u001B[0mE\u001B[0m\u001B[0;34m)\u001B[0m\u001B[0;34m\u001B[0m\u001B[0;34m\u001B[0m\u001B[0m\n",
      "\u001B[0;32m<ipython-input-94-908a7ddc4bfb>\u001B[0m in \u001B[0;36mrun_mc\u001B[0;34m(T, L_x, L_y)\u001B[0m\n\u001B[1;32m     16\u001B[0m \u001B[0;34m\u001B[0m\u001B[0m\n\u001B[1;32m     17\u001B[0m     \u001B[0;32mfor\u001B[0m \u001B[0mi\u001B[0m \u001B[0;32min\u001B[0m \u001B[0mrange\u001B[0m\u001B[0;34m(\u001B[0m\u001B[0mN_flips\u001B[0m\u001B[0;34m)\u001B[0m\u001B[0;34m:\u001B[0m\u001B[0;34m\u001B[0m\u001B[0;34m\u001B[0m\u001B[0m\n\u001B[0;32m---> 18\u001B[0;31m         \u001B[0mflip_cluster\u001B[0m\u001B[0;34m(\u001B[0m\u001B[0mspins\u001B[0m\u001B[0;34m,\u001B[0m \u001B[0mbonds\u001B[0m\u001B[0;34m,\u001B[0m \u001B[0mL_x\u001B[0m\u001B[0;34m,\u001B[0m \u001B[0mL_y\u001B[0m\u001B[0;34m,\u001B[0m \u001B[0mT\u001B[0m\u001B[0;34m)\u001B[0m\u001B[0;34m\u001B[0m\u001B[0;34m\u001B[0m\u001B[0m\n\u001B[0m\u001B[1;32m     19\u001B[0m \u001B[0;34m\u001B[0m\u001B[0m\n\u001B[1;32m     20\u001B[0m         \u001B[0;32mif\u001B[0m \u001B[0mi\u001B[0m \u001B[0;34m<\u001B[0m \u001B[0mN_eq\u001B[0m\u001B[0;34m:\u001B[0m\u001B[0;34m\u001B[0m\u001B[0;34m\u001B[0m\u001B[0m\n",
      "\u001B[0;32m<ipython-input-92-317fee020b59>\u001B[0m in \u001B[0;36mflip_cluster\u001B[0;34m(spins, bonds, L_x, L_y, T)\u001B[0m\n\u001B[1;32m     11\u001B[0m     \u001B[0mweights\u001B[0m \u001B[0;34m=\u001B[0m \u001B[0massign_weights\u001B[0m\u001B[0;34m(\u001B[0m\u001B[0mbonds\u001B[0m\u001B[0;34m,\u001B[0m \u001B[0mspins\u001B[0m\u001B[0;34m,\u001B[0m \u001B[0mT\u001B[0m\u001B[0;34m)\u001B[0m\u001B[0;34m\u001B[0m\u001B[0;34m\u001B[0m\u001B[0m\n\u001B[1;32m     12\u001B[0m \u001B[0;34m\u001B[0m\u001B[0m\n\u001B[0;32m---> 13\u001B[0;31m     \u001B[0mgraph\u001B[0m \u001B[0;34m=\u001B[0m \u001B[0msparse\u001B[0m\u001B[0;34m.\u001B[0m\u001B[0mcsr_matrix\u001B[0m\u001B[0;34m(\u001B[0m\u001B[0;34m(\u001B[0m\u001B[0mweights\u001B[0m\u001B[0;34m,\u001B[0m \u001B[0;34m(\u001B[0m\u001B[0mbonds\u001B[0m\u001B[0;34m[\u001B[0m\u001B[0;34m:\u001B[0m\u001B[0;34m,\u001B[0m\u001B[0;36m0\u001B[0m\u001B[0;34m]\u001B[0m\u001B[0;34m,\u001B[0m \u001B[0mbonds\u001B[0m\u001B[0;34m[\u001B[0m\u001B[0;34m:\u001B[0m\u001B[0;34m,\u001B[0m\u001B[0;36m1\u001B[0m\u001B[0;34m]\u001B[0m\u001B[0;34m)\u001B[0m\u001B[0;34m)\u001B[0m\u001B[0;34m,\u001B[0m \u001B[0mshape\u001B[0m\u001B[0;34m=\u001B[0m\u001B[0;34m(\u001B[0m\u001B[0mN\u001B[0m\u001B[0;34m,\u001B[0m\u001B[0mN\u001B[0m\u001B[0;34m)\u001B[0m\u001B[0;34m)\u001B[0m\u001B[0;34m\u001B[0m\u001B[0;34m\u001B[0m\u001B[0m\n\u001B[0m\u001B[1;32m     14\u001B[0m     \u001B[0mgraph_combined\u001B[0m \u001B[0;34m=\u001B[0m \u001B[0mgraph\u001B[0m\u001B[0;34m+\u001B[0m\u001B[0mgraph\u001B[0m\u001B[0;34m.\u001B[0m\u001B[0mT\u001B[0m\u001B[0;34m\u001B[0m\u001B[0;34m\u001B[0m\u001B[0m\n\u001B[1;32m     15\u001B[0m \u001B[0;34m\u001B[0m\u001B[0m\n",
      "\u001B[0;32m~/OneDrive/DOKUMENTE/1_STUDIUM/02_MASTER/2021_SS/01_ComputationalManyBodyPhysics/tutorial/compMBP/venv/lib/python3.8/site-packages/scipy/sparse/compressed.py\u001B[0m in \u001B[0;36m__init__\u001B[0;34m(self, arg1, shape, dtype, copy)\u001B[0m\n\u001B[1;32m     52\u001B[0m                     \u001B[0;31m# (data, ij) format\u001B[0m\u001B[0;34m\u001B[0m\u001B[0;34m\u001B[0m\u001B[0;34m\u001B[0m\u001B[0m\n\u001B[1;32m     53\u001B[0m                     \u001B[0;32mfrom\u001B[0m \u001B[0;34m.\u001B[0m\u001B[0mcoo\u001B[0m \u001B[0;32mimport\u001B[0m \u001B[0mcoo_matrix\u001B[0m\u001B[0;34m\u001B[0m\u001B[0;34m\u001B[0m\u001B[0m\n\u001B[0;32m---> 54\u001B[0;31m                     other = self.__class__(coo_matrix(arg1, shape=shape,\n\u001B[0m\u001B[1;32m     55\u001B[0m                                                       dtype=dtype))\n\u001B[1;32m     56\u001B[0m                     \u001B[0mself\u001B[0m\u001B[0;34m.\u001B[0m\u001B[0m_set_self\u001B[0m\u001B[0;34m(\u001B[0m\u001B[0mother\u001B[0m\u001B[0;34m)\u001B[0m\u001B[0;34m\u001B[0m\u001B[0;34m\u001B[0m\u001B[0m\n",
      "\u001B[0;32m~/OneDrive/DOKUMENTE/1_STUDIUM/02_MASTER/2021_SS/01_ComputationalManyBodyPhysics/tutorial/compMBP/venv/lib/python3.8/site-packages/scipy/sparse/compressed.py\u001B[0m in \u001B[0;36m__init__\u001B[0;34m(self, arg1, shape, dtype, copy)\u001B[0m\n\u001B[1;32m     32\u001B[0m                 \u001B[0marg1\u001B[0m \u001B[0;34m=\u001B[0m \u001B[0marg1\u001B[0m\u001B[0;34m.\u001B[0m\u001B[0mcopy\u001B[0m\u001B[0;34m(\u001B[0m\u001B[0;34m)\u001B[0m\u001B[0;34m\u001B[0m\u001B[0;34m\u001B[0m\u001B[0m\n\u001B[1;32m     33\u001B[0m             \u001B[0;32melse\u001B[0m\u001B[0;34m:\u001B[0m\u001B[0;34m\u001B[0m\u001B[0;34m\u001B[0m\u001B[0m\n\u001B[0;32m---> 34\u001B[0;31m                 \u001B[0marg1\u001B[0m \u001B[0;34m=\u001B[0m \u001B[0marg1\u001B[0m\u001B[0;34m.\u001B[0m\u001B[0masformat\u001B[0m\u001B[0;34m(\u001B[0m\u001B[0mself\u001B[0m\u001B[0;34m.\u001B[0m\u001B[0mformat\u001B[0m\u001B[0;34m)\u001B[0m\u001B[0;34m\u001B[0m\u001B[0;34m\u001B[0m\u001B[0m\n\u001B[0m\u001B[1;32m     35\u001B[0m             \u001B[0mself\u001B[0m\u001B[0;34m.\u001B[0m\u001B[0m_set_self\u001B[0m\u001B[0;34m(\u001B[0m\u001B[0marg1\u001B[0m\u001B[0;34m)\u001B[0m\u001B[0;34m\u001B[0m\u001B[0;34m\u001B[0m\u001B[0m\n\u001B[1;32m     36\u001B[0m \u001B[0;34m\u001B[0m\u001B[0m\n",
      "\u001B[0;32m~/OneDrive/DOKUMENTE/1_STUDIUM/02_MASTER/2021_SS/01_ComputationalManyBodyPhysics/tutorial/compMBP/venv/lib/python3.8/site-packages/scipy/sparse/base.py\u001B[0m in \u001B[0;36masformat\u001B[0;34m(self, format, copy)\u001B[0m\n\u001B[1;32m    320\u001B[0m             \u001B[0;31m# Forward the copy kwarg, if it's accepted.\u001B[0m\u001B[0;34m\u001B[0m\u001B[0;34m\u001B[0m\u001B[0;34m\u001B[0m\u001B[0m\n\u001B[1;32m    321\u001B[0m             \u001B[0;32mtry\u001B[0m\u001B[0;34m:\u001B[0m\u001B[0;34m\u001B[0m\u001B[0;34m\u001B[0m\u001B[0m\n\u001B[0;32m--> 322\u001B[0;31m                 \u001B[0;32mreturn\u001B[0m \u001B[0mconvert_method\u001B[0m\u001B[0;34m(\u001B[0m\u001B[0mcopy\u001B[0m\u001B[0;34m=\u001B[0m\u001B[0mcopy\u001B[0m\u001B[0;34m)\u001B[0m\u001B[0;34m\u001B[0m\u001B[0;34m\u001B[0m\u001B[0m\n\u001B[0m\u001B[1;32m    323\u001B[0m             \u001B[0;32mexcept\u001B[0m \u001B[0mTypeError\u001B[0m\u001B[0;34m:\u001B[0m\u001B[0;34m\u001B[0m\u001B[0;34m\u001B[0m\u001B[0m\n\u001B[1;32m    324\u001B[0m                 \u001B[0;32mreturn\u001B[0m \u001B[0mconvert_method\u001B[0m\u001B[0;34m(\u001B[0m\u001B[0;34m)\u001B[0m\u001B[0;34m\u001B[0m\u001B[0;34m\u001B[0m\u001B[0m\n",
      "\u001B[0;32m~/OneDrive/DOKUMENTE/1_STUDIUM/02_MASTER/2021_SS/01_ComputationalManyBodyPhysics/tutorial/compMBP/venv/lib/python3.8/site-packages/scipy/sparse/coo.py\u001B[0m in \u001B[0;36mtocsr\u001B[0;34m(self, copy)\u001B[0m\n\u001B[1;32m    407\u001B[0m                       indptr, indices, data)\n\u001B[1;32m    408\u001B[0m \u001B[0;34m\u001B[0m\u001B[0m\n\u001B[0;32m--> 409\u001B[0;31m             \u001B[0mx\u001B[0m \u001B[0;34m=\u001B[0m \u001B[0mcsr_matrix\u001B[0m\u001B[0;34m(\u001B[0m\u001B[0;34m(\u001B[0m\u001B[0mdata\u001B[0m\u001B[0;34m,\u001B[0m \u001B[0mindices\u001B[0m\u001B[0;34m,\u001B[0m \u001B[0mindptr\u001B[0m\u001B[0;34m)\u001B[0m\u001B[0;34m,\u001B[0m \u001B[0mshape\u001B[0m\u001B[0;34m=\u001B[0m\u001B[0mself\u001B[0m\u001B[0;34m.\u001B[0m\u001B[0mshape\u001B[0m\u001B[0;34m)\u001B[0m\u001B[0;34m\u001B[0m\u001B[0;34m\u001B[0m\u001B[0m\n\u001B[0m\u001B[1;32m    410\u001B[0m             \u001B[0;32mif\u001B[0m \u001B[0;32mnot\u001B[0m \u001B[0mself\u001B[0m\u001B[0;34m.\u001B[0m\u001B[0mhas_canonical_format\u001B[0m\u001B[0;34m:\u001B[0m\u001B[0;34m\u001B[0m\u001B[0;34m\u001B[0m\u001B[0m\n\u001B[1;32m    411\u001B[0m                 \u001B[0mx\u001B[0m\u001B[0;34m.\u001B[0m\u001B[0msum_duplicates\u001B[0m\u001B[0;34m(\u001B[0m\u001B[0;34m)\u001B[0m\u001B[0;34m\u001B[0m\u001B[0;34m\u001B[0m\u001B[0m\n",
      "\u001B[0;32m~/OneDrive/DOKUMENTE/1_STUDIUM/02_MASTER/2021_SS/01_ComputationalManyBodyPhysics/tutorial/compMBP/venv/lib/python3.8/site-packages/scipy/sparse/compressed.py\u001B[0m in \u001B[0;36m__init__\u001B[0;34m(self, arg1, shape, dtype, copy)\u001B[0m\n\u001B[1;32m     64\u001B[0m                     \u001B[0;32mif\u001B[0m \u001B[0mshape\u001B[0m \u001B[0;32mis\u001B[0m \u001B[0;32mnot\u001B[0m \u001B[0;32mNone\u001B[0m\u001B[0;34m:\u001B[0m\u001B[0;34m\u001B[0m\u001B[0;34m\u001B[0m\u001B[0m\n\u001B[1;32m     65\u001B[0m                         \u001B[0mmaxval\u001B[0m \u001B[0;34m=\u001B[0m \u001B[0mmax\u001B[0m\u001B[0;34m(\u001B[0m\u001B[0mshape\u001B[0m\u001B[0;34m)\u001B[0m\u001B[0;34m\u001B[0m\u001B[0;34m\u001B[0m\u001B[0m\n\u001B[0;32m---> 66\u001B[0;31m                     idx_dtype = get_index_dtype((indices, indptr),\n\u001B[0m\u001B[1;32m     67\u001B[0m                                                 \u001B[0mmaxval\u001B[0m\u001B[0;34m=\u001B[0m\u001B[0mmaxval\u001B[0m\u001B[0;34m,\u001B[0m\u001B[0;34m\u001B[0m\u001B[0;34m\u001B[0m\u001B[0m\n\u001B[1;32m     68\u001B[0m                                                 check_contents=True)\n",
      "\u001B[0;32m~/OneDrive/DOKUMENTE/1_STUDIUM/02_MASTER/2021_SS/01_ComputationalManyBodyPhysics/tutorial/compMBP/venv/lib/python3.8/site-packages/scipy/sparse/sputils.py\u001B[0m in \u001B[0;36mget_index_dtype\u001B[0;34m(arrays, maxval, check_contents)\u001B[0m\n\u001B[1;32m    152\u001B[0m \u001B[0;34m\u001B[0m\u001B[0m\n\u001B[1;32m    153\u001B[0m     \u001B[0mint32min\u001B[0m \u001B[0;34m=\u001B[0m \u001B[0mnp\u001B[0m\u001B[0;34m.\u001B[0m\u001B[0miinfo\u001B[0m\u001B[0;34m(\u001B[0m\u001B[0mnp\u001B[0m\u001B[0;34m.\u001B[0m\u001B[0mint32\u001B[0m\u001B[0;34m)\u001B[0m\u001B[0;34m.\u001B[0m\u001B[0mmin\u001B[0m\u001B[0;34m\u001B[0m\u001B[0;34m\u001B[0m\u001B[0m\n\u001B[0;32m--> 154\u001B[0;31m     \u001B[0mint32max\u001B[0m \u001B[0;34m=\u001B[0m \u001B[0mnp\u001B[0m\u001B[0;34m.\u001B[0m\u001B[0miinfo\u001B[0m\u001B[0;34m(\u001B[0m\u001B[0mnp\u001B[0m\u001B[0;34m.\u001B[0m\u001B[0mint32\u001B[0m\u001B[0;34m)\u001B[0m\u001B[0;34m.\u001B[0m\u001B[0mmax\u001B[0m\u001B[0;34m\u001B[0m\u001B[0;34m\u001B[0m\u001B[0m\n\u001B[0m\u001B[1;32m    155\u001B[0m \u001B[0;34m\u001B[0m\u001B[0m\n\u001B[1;32m    156\u001B[0m     \u001B[0mdtype\u001B[0m \u001B[0;34m=\u001B[0m \u001B[0mnp\u001B[0m\u001B[0;34m.\u001B[0m\u001B[0mintc\u001B[0m\u001B[0;34m\u001B[0m\u001B[0;34m\u001B[0m\u001B[0m\n",
      "\u001B[0;32m~/OneDrive/DOKUMENTE/1_STUDIUM/02_MASTER/2021_SS/01_ComputationalManyBodyPhysics/tutorial/compMBP/venv/lib/python3.8/site-packages/numpy/core/getlimits.py\u001B[0m in \u001B[0;36m__init__\u001B[0;34m(self, int_type)\u001B[0m\n\u001B[1;32m    519\u001B[0m         \u001B[0mself\u001B[0m\u001B[0;34m.\u001B[0m\u001B[0mkind\u001B[0m \u001B[0;34m=\u001B[0m \u001B[0mself\u001B[0m\u001B[0;34m.\u001B[0m\u001B[0mdtype\u001B[0m\u001B[0;34m.\u001B[0m\u001B[0mkind\u001B[0m\u001B[0;34m\u001B[0m\u001B[0;34m\u001B[0m\u001B[0m\n\u001B[1;32m    520\u001B[0m         \u001B[0mself\u001B[0m\u001B[0;34m.\u001B[0m\u001B[0mbits\u001B[0m \u001B[0;34m=\u001B[0m \u001B[0mself\u001B[0m\u001B[0;34m.\u001B[0m\u001B[0mdtype\u001B[0m\u001B[0;34m.\u001B[0m\u001B[0mitemsize\u001B[0m \u001B[0;34m*\u001B[0m \u001B[0;36m8\u001B[0m\u001B[0;34m\u001B[0m\u001B[0;34m\u001B[0m\u001B[0m\n\u001B[0;32m--> 521\u001B[0;31m         \u001B[0mself\u001B[0m\u001B[0;34m.\u001B[0m\u001B[0mkey\u001B[0m \u001B[0;34m=\u001B[0m \u001B[0;34m\"%s%d\"\u001B[0m \u001B[0;34m%\u001B[0m \u001B[0;34m(\u001B[0m\u001B[0mself\u001B[0m\u001B[0;34m.\u001B[0m\u001B[0mkind\u001B[0m\u001B[0;34m,\u001B[0m \u001B[0mself\u001B[0m\u001B[0;34m.\u001B[0m\u001B[0mbits\u001B[0m\u001B[0;34m)\u001B[0m\u001B[0;34m\u001B[0m\u001B[0;34m\u001B[0m\u001B[0m\n\u001B[0m\u001B[1;32m    522\u001B[0m         \u001B[0;32mif\u001B[0m \u001B[0mself\u001B[0m\u001B[0;34m.\u001B[0m\u001B[0mkind\u001B[0m \u001B[0;32mnot\u001B[0m \u001B[0;32min\u001B[0m \u001B[0;34m'iu'\u001B[0m\u001B[0;34m:\u001B[0m\u001B[0;34m\u001B[0m\u001B[0;34m\u001B[0m\u001B[0m\n\u001B[1;32m    523\u001B[0m             \u001B[0;32mraise\u001B[0m \u001B[0mValueError\u001B[0m\u001B[0;34m(\u001B[0m\u001B[0;34m\"Invalid integer data type %r.\"\u001B[0m \u001B[0;34m%\u001B[0m \u001B[0;34m(\u001B[0m\u001B[0mself\u001B[0m\u001B[0;34m.\u001B[0m\u001B[0mkind\u001B[0m\u001B[0;34m,\u001B[0m\u001B[0;34m)\u001B[0m\u001B[0;34m)\u001B[0m\u001B[0;34m\u001B[0m\u001B[0;34m\u001B[0m\u001B[0m\n",
      "\u001B[0;31mKeyboardInterrupt\u001B[0m: "
     ]
    }
   ],
   "source": [
    "run_system_sizes()"
   ],
   "metadata": {
    "collapsed": false,
    "pycharm": {
     "name": "#%%\n"
    }
   }
  },
  {
   "cell_type": "code",
   "execution_count": null,
   "outputs": [],
   "source": [],
   "metadata": {
    "collapsed": false,
    "pycharm": {
     "name": "#%%\n"
    }
   }
  }
 ],
 "metadata": {
  "kernelspec": {
   "display_name": "Python 3",
   "language": "python",
   "name": "python3"
  },
  "language_info": {
   "codemirror_mode": {
    "name": "ipython",
    "version": 2
   },
   "file_extension": ".py",
   "mimetype": "text/x-python",
   "name": "python",
   "nbconvert_exporter": "python",
   "pygments_lexer": "ipython2",
   "version": "2.7.6"
  }
 },
 "nbformat": 4,
 "nbformat_minor": 0
}