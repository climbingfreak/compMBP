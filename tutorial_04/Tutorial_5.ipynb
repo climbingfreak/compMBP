{
 "cells": [
  {
   "cell_type": "code",
   "execution_count": 2,
   "id": "17d1a8b2-bd59-424c-a2e7-6e2d37a04076",
   "metadata": {},
   "outputs": [
    {
     "name": "stdout",
     "output_type": "stream",
     "text": [
      "Identity matrix =    (0, 0)\t1\n",
      "  (1, 1)\t1 \n",
      " Pauli matrix X =    (0, 1)\t1\n",
      "  (1, 0)\t1 \n",
      " Pauli matrix Z =    (0, 0)\t1\n",
      "  (1, 1)\t-1\n"
     ]
    }
   ],
   "source": [
    "from scipy.sparse import csr_matrix\n",
    "from scipy.sparse import kron\n",
    "from scipy.sparse import linalg\n",
    "import numpy as np\n",
    "import matplotlib.pyplot as plt\n",
    "\n",
    "\n",
    "Id = csr_matrix(([1,1], ([0,1], [0,1])), shape=(2,2))\n",
    "Sx = csr_matrix(([1,1], ([0, 1], [1, 0])), shape=(2,2))                \n",
    "Sz = csr_matrix(([1,-1], ([0,1], [0,1])), shape=(2,2))     \n",
    "\n",
    "print('Identity matrix = ', Id, '\\n Pauli matrix X = ', Sx, '\\n Pauli matrix Z = ', Sz)"
   ]
  },
  {
   "cell_type": "code",
   "execution_count": 3,
   "id": "10cd34aa-75b9-448d-b560-b2efad771f38",
   "metadata": {},
   "outputs": [
    {
     "name": "stdout",
     "output_type": "stream",
     "text": [
      "[[ 1  0  0  0]\n",
      " [ 0 -1  0  0]\n",
      " [ 0  0  1  0]\n",
      " [ 0  0  0 -1]]\n"
     ]
    }
   ],
   "source": [
    "def create_sigma_z_j(j,L):\n",
    "    assert j<L\n",
    "    if j == 0:\n",
    "        full = kron(Sz, Id, format ='csr')\n",
    "    elif j==1:\n",
    "        full = kron(Id, Sz, format ='csr')\n",
    "    else:\n",
    "        full = kron(Id, Id, format ='csr')\n",
    "    for i in range(2, L):\n",
    "        if i == j:\n",
    "            full = kron(full, Sz, format ='csr')\n",
    "        else:\n",
    "            full = kron(full, Id, format ='csr')\n",
    "    return full\n",
    "\n",
    "\n",
    "print(create_sigma_z_j(1, 2).toarray())\n"
   ]
  },
  {
   "cell_type": "code",
   "execution_count": 4,
   "id": "4dcb308d-f52b-4026-b743-664ff2be2cf1",
   "metadata": {},
   "outputs": [
    {
     "name": "stdout",
     "output_type": "stream",
     "text": [
      "[[0 0 1 0]\n",
      " [0 0 0 1]\n",
      " [1 0 0 0]\n",
      " [0 1 0 0]]\n"
     ]
    }
   ],
   "source": [
    "def create_sigma_x_j(j,L):\n",
    "    assert j<L\n",
    "    if j == 0:\n",
    "        full = kron(Sx, Id, format ='csr')\n",
    "    elif j==1:\n",
    "        full = kron(Id, Sx, format ='csr')\n",
    "    else:\n",
    "        full = kron(Id, Id, format ='csr')\n",
    "    for i in range(2, L):\n",
    "        if i == j:\n",
    "            full = kron(full, Sx, format ='csr')\n",
    "        else:\n",
    "            full = kron(full, Id, format ='csr')\n",
    "    return full\n",
    "\n",
    "\n",
    "print(create_sigma_x_j(0, 2).toarray())"
   ]
  },
  {
   "cell_type": "code",
   "execution_count": 30,
   "id": "4e5b1eea-a2cc-4625-8581-812affb66f4c",
   "metadata": {},
   "outputs": [
    {
     "name": "stdout",
     "output_type": "stream",
     "text": [
      "[[-0.2  0.   0.  -2. ]\n",
      " [ 0.   0.  -2.   0. ]\n",
      " [ 0.  -2.   0.   0. ]\n",
      " [-2.   0.   0.   0.2]]\n"
     ]
    }
   ],
   "source": [
    "L = 2\n",
    "g = .1\n",
    "J = 1\n",
    "\n",
    "def gen_hamiltonian(sx_list, sz_list, g, J):\n",
    "    \n",
    "    L = len(sx_list)\n",
    "    Sum_1 = csr_matrix((2**L, 2**L))\n",
    "    Sum_2 = csr_matrix((2**L, 2**L))\n",
    "    \n",
    "   \n",
    "    for i in range(len(sx_list)):\n",
    "        Sum_1 += sx_list[i] * sx_list[(i+1)%len(sx_list)]\n",
    "        Sum_2 += sz_list[i]\n",
    "\n",
    "    return -J * Sum_1 - g * Sum_2\n",
    "\n",
    "sx_list = [create_sigma_x_j(j,L) for j in range(L)]\n",
    "sz_list = [create_sigma_z_j(j,L) for j in range(L)]\n",
    "\n",
    "\n",
    "print(gen_hamiltonian(sx_list, sz_list, g, J).toarray())"
   ]
  },
  {
   "cell_type": "code",
   "execution_count": 6,
   "id": "5eee572e-548f-4ef8-9538-9618e557a641",
   "metadata": {},
   "outputs": [
    {
     "name": "stdout",
     "output_type": "stream",
     "text": [
      "(array([-2.03960781, -2.        ,  2.        ]), array([[ 7.73342141e-01, -7.54951657e-15,  3.01147995e-15],\n",
      "       [-6.79165925e-15, -7.07106781e-01,  7.07106781e-01],\n",
      "       [-7.10542736e-15, -7.07106781e-01, -7.07106781e-01],\n",
      "       [ 6.33988906e-01, -5.93969318e-15, -3.34454686e-15]]))\n"
     ]
    }
   ],
   "source": [
    "print(linalg.eigsh(gen_hamiltonian(sx_list, sz_list, g, J), k=3, M=None, sigma=None, which='SA'))\n"
   ]
  },
  {
   "cell_type": "code",
   "execution_count": 25,
   "id": "e2aafcd9-9793-4783-a0e6-5dd7fbdba055",
   "metadata": {},
   "outputs": [
    {
     "name": "stdout",
     "output_type": "stream",
     "text": [
      "(1, 1)\n"
     ]
    },
    {
     "data": {
      "image/png": "[encoded data removed]",
      "text/plain": [
       "<Figure size 432x288 with 1 Axes>"
      ]
     },
     "metadata": {
      "needs_background": "light"
     },
     "output_type": "display_data"
    }
   ],
   "source": [
    "for L in range(4,9,2):\n",
    "    \n",
    "    Correlation_list = []\n",
    "    sx_list = [create_sigma_x_j(j,L) for j in range(L)]\n",
    "    sz_list = [create_sigma_z_j(j,L) for j in range(L)]\n",
    "    \n",
    "    for g in np.linspace(0,2, 20):\n",
    "        \n",
    "        Eigen_value, Eigen_vector = linalg.eigsh(gen_hamiltonian(sx_list, sz_list, g, J), k=1, M=None, sigma=None, which='SA')\n",
    "        Correlation = Eigen_vector.T @ ((create_sigma_x_j(0,L) * create_sigma_x_j(L/2,L)) * Eigen_vector)\n",
    "    \n",
    "        Correlation_list.append(Correlation[0])\n",
    "    plt.plot(np.linspace(0,2,20), Correlation_list, label = 'L ={}' .format(L))   \n",
    "\n",
    "    \n",
    "plt.legend()\n",
    "    \n",
    "\n",
    "print((Correlation).shape)\n"
   ]
  },
  {
   "cell_type": "code",
   "execution_count": 27,
   "id": "0baf4635-a3cb-438b-a59e-5aa887781c83",
   "metadata": {},
   "outputs": [
    {
     "data": {
      "text/plain": [
       "<matplotlib.legend.Legend at 0x117857910>"
      ]
     },
     "execution_count": 27,
     "metadata": {},
     "output_type": "execute_result"
    },
    {
     "data": {
      "image/png": "[encoded data removed]",
      "text/plain": [
       "<Figure size 432x288 with 1 Axes>"
      ]
     },
     "metadata": {
      "needs_background": "light"
     },
     "output_type": "display_data"
    }
   ],
   "source": [
    "sx_list = [create_sigma_x_j(j,L) for j in range(L)]\n",
    "sz_list = [create_sigma_z_j(j,L) for j in range(L)]\n",
    "E_0 = []\n",
    "E_1 = []\n",
    "\n",
    "\n",
    "for g in np.linspace(0,2, 20):\n",
    "    \n",
    "    Eigen_value, Eigen_vector = linalg.eigsh(gen_hamiltonian(sx_list, sz_list, g, J), k=3, M=None, sigma=None, which='SA')\n",
    "    E_0.append(Eigen_value[1])\n",
    "    E_1.append(Eigen_value[2])\n",
    "\n",
    "        \n",
    "plt.plot(np.linspace(0,2,20), E_0, label = 'First excited state' )  \n",
    "plt.plot(np.linspace(0,2,20), E_1, label = 'Second excited state' )  \n",
    "\n",
    "plt.legend()"
   ]
  },
  {
   "cell_type": "code",
   "execution_count": null,
   "id": "28abd8f9-3fcd-46ce-99f1-7d0b289e8cef",
   "metadata": {},
   "outputs": [],
   "source": []
  }
 ],
 "metadata": {
  "kernelspec": {
   "display_name": "Python 3",
   "language": "python",
   "name": "python3"
  },
  "language_info": {
   "codemirror_mode": {
    "name": "ipython",
    "version": 3
   },
   "file_extension": ".py",
   "mimetype": "text/x-python",
   "name": "python",
   "nbconvert_exporter": "python",
   "pygments_lexer": "ipython3",
   "version": "3.9.1"
  }
 },
 "nbformat": 4,
 "nbformat_minor": 5
}
