{
 "cells": [
  {
   "cell_type": "markdown",
   "metadata": {
    "collapsed": true,
    "pycharm": {
     "name": "#%% md\n"
    }
   },
   "source": [
    "# Tutorial 09"
   ]
  },
  {
   "cell_type": "code",
   "execution_count": 40,
   "outputs": [],
   "source": [
    "import d_dmrg\n",
    "import a_mps\n",
    "import b_model\n",
    "from tqdm.autonotebook import tqdm\n",
    "import tfi_exact\n",
    "import numpy as np\n",
    "from matplotlib import pyplot as plt"
   ],
   "metadata": {
    "collapsed": false,
    "pycharm": {
     "name": "#%%\n"
    }
   }
  },
  {
   "cell_type": "code",
   "execution_count": 23,
   "outputs": [],
   "source": [
    "model = b_model.TFIModel(10,1.,1.)"
   ],
   "metadata": {
    "collapsed": false,
    "pycharm": {
     "name": "#%%\n"
    }
   }
  },
  {
   "cell_type": "code",
   "execution_count": 27,
   "outputs": [],
   "source": [
    "L = 14\n",
    "g = 1.5\n",
    "J = 1.\n",
    "\n",
    "psi0 = a_mps.init_spinup_MPS(L)\n",
    "model = b_model.TFIModel(L,g,J)\n",
    "dmrg = d_dmrg.DMRGEngine(psi0, model)\n",
    "\n"
   ],
   "metadata": {
    "collapsed": false,
    "pycharm": {
     "name": "#%%\n"
    }
   }
  },
  {
   "cell_type": "code",
   "execution_count": 28,
   "outputs": [
    {
     "name": "stdout",
     "output_type": "stream",
     "text": [
      "-22.284193390741905\n",
      "-22.265735042280827\n",
      "-22.265734925392344\n",
      "-22.26573492539236\n",
      "-22.26573492539236\n"
     ]
    }
   ],
   "source": [
    "for i in range(5):\n",
    "    dmrg.sweep()\n",
    "    print(model.energy(psi0))"
   ],
   "metadata": {
    "collapsed": false,
    "pycharm": {
     "name": "#%%\n"
    }
   }
  },
  {
   "cell_type": "code",
   "execution_count": 30,
   "outputs": [
    {
     "name": "stdout",
     "output_type": "stream",
     "text": [
      "-22.2657349253924\n"
     ]
    }
   ],
   "source": [
    "print(tfi_exact.finite_gs_energy(L, g, J))"
   ],
   "metadata": {
    "collapsed": false,
    "pycharm": {
     "name": "#%%\n"
    }
   }
  },
  {
   "cell_type": "code",
   "execution_count": 44,
   "outputs": [],
   "source": [
    "def dmrg_sim(L, g, J, epsilon=1e-8, max_sweeps=50):\n",
    "    \"\"\"\n",
    "    Perfom a full DMRG simulation.\n",
    "    \"\"\"\n",
    "\n",
    "    psi0 = a_mps.init_spinup_MPS(L)\n",
    "    model = b_model.TFIModel(L,g,J)\n",
    "    dmrg = d_dmrg.DMRGEngine(psi0, model)\n",
    "\n",
    "    previous_E = model.energy(psi0)\n",
    "    for i in range(max_sweeps):\n",
    "        dmrg.sweep()\n",
    "        E = model.energy(psi0)\n",
    "\n",
    "        if abs(previous_E-E) < epsilon:\n",
    "            break\n",
    "\n",
    "        previous_E = E\n",
    "\n",
    "    return model, psi0"
   ],
   "metadata": {
    "collapsed": false,
    "pycharm": {
     "name": "#%%\n"
    }
   }
  },
  {
   "cell_type": "code",
   "execution_count": null,
   "outputs": [],
   "source": [
    "model, state = dmrg_sim(L, g, J)\n",
    "print(model.energy(state))"
   ],
   "metadata": {
    "collapsed": false,
    "pycharm": {
     "name": "#%%\n",
     "is_executing": true
    }
   }
  },
  {
   "cell_type": "code",
   "execution_count": 43,
   "outputs": [
    {
     "ename": "IndentationError",
     "evalue": "unindent does not match any outer indentation level (<tokenize>, line 10)",
     "output_type": "error",
     "traceback": [
      "\u001B[0;36m  File \u001B[0;32m\"<tokenize>\"\u001B[0;36m, line \u001B[0;32m10\u001B[0m\n\u001B[0;31m    for L in tqdm(Ls):\u001B[0m\n\u001B[0m    ^\u001B[0m\n\u001B[0;31mIndentationError\u001B[0m\u001B[0;31m:\u001B[0m unindent does not match any outer indentation level\n"
     ]
    }
   ],
   "source": [
    "# d)\n",
    "\n",
    "Ls = [8,16,32,64, 96, 128]\n",
    "gs = [1., 1.5, 0.5]\n",
    "J = 1.\n",
    "\n",
    "\n",
    "for g in tqdm(gs):\n",
    "    entropies = []\n",
    "    for L in tqdm(Ls):\n",
    "        model, psi = dmrg_sim(L, g, J)\n",
    "        entropies.append(psi.entanglement_entropy()[int(L/2)])\n",
    "\n",
    "    plt.plot(Ls, entropies, label=\"L={}\".format(L))\n",
    "\n",
    "plt.xlabel(\"g\")\n",
    "plt.ylabel(\"S\")\n",
    "plt.legend()\n",
    "plt.show()"
   ],
   "metadata": {
    "collapsed": false,
    "pycharm": {
     "name": "#%%\n"
    }
   }
  },
  {
   "cell_type": "code",
   "execution_count": null,
   "outputs": [],
   "source": [],
   "metadata": {
    "collapsed": false,
    "pycharm": {
     "name": "#%%\n"
    }
   }
  }
 ],
 "metadata": {
  "kernelspec": {
   "display_name": "Python 3",
   "language": "python",
   "name": "python3"
  },
  "language_info": {
   "codemirror_mode": {
    "name": "ipython",
    "version": 2
   },
   "file_extension": ".py",
   "mimetype": "text/x-python",
   "name": "python",
   "nbconvert_exporter": "python",
   "pygments_lexer": "ipython2",
   "version": "2.7.6"
  }
 },
 "nbformat": 4,
 "nbformat_minor": 0
}