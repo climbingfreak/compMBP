{
 "cells": [
  {
   "cell_type": "markdown",
   "id": "a9c4e754-3117-4235-94ce-6412df06c021",
   "metadata": {},
   "source": [
    "# Computational many body physics \n",
    "## Sheet 1\n",
    "\n"
   ]
  },
  {
   "cell_type": "code",
   "execution_count": 1,
   "id": "0f543072-cc7e-4a3a-8882-a6f370224b03",
   "metadata": {},
   "outputs": [],
   "source": [
    "import numpy as np\n",
    "from matplotlib import pyplot as plt\n",
    "\n",
    "np.random.seed(7)"
   ]
  },
  {
   "cell_type": "markdown",
   "id": "873179bc-ece9-45a0-b8b7-3fd117cec4b1",
   "metadata": {},
   "source": [
    "### Task 1.1a"
   ]
  },
  {
   "cell_type": "code",
   "execution_count": 51,
   "id": "0afaf714-ec14-46f0-bfc4-6824caca7dd1",
   "metadata": {},
   "outputs": [],
   "source": [
    "def estimate_pi(N):\n",
    "\n",
    "    hits = 2*(np.random.rand(N, 2) - 0.5) \n",
    "    inside = np.sqrt(hits[:,0]**2 + hits[:,1]**2) <= 1\n",
    "    return 4*np.sum(inside) / len(inside)"
   ]
  },
  {
   "cell_type": "code",
   "execution_count": 52,
   "id": "1c7123c6-3440-4d6d-ac02-34f6fbf92736",
   "metadata": {},
   "outputs": [
    {
     "name": "stdout",
     "output_type": "stream",
     "text": [
      "Pi estimate: 3.14756\n"
     ]
    }
   ],
   "source": [
    "N = 100000\n",
    "pi = estimate_pi(N)\n",
    "print(\"Pi estimate:\", pi)"
   ]
  },
  {
   "cell_type": "code",
   "execution_count": 53,
   "id": "e2a21c64-4187-4caa-a72c-27264d726e08",
   "metadata": {},
   "outputs": [],
   "source": [
    "### Task 1.1b"
   ]
  },
  {
   "cell_type": "code",
   "execution_count": 54,
   "id": "7ad646bd-eced-4019-9991-73b121b88dc1",
   "metadata": {},
   "outputs": [
    {
     "name": "stdout",
     "output_type": "stream",
     "text": [
      "Pi variance (iterations=10) 1.7925760000000404e-05\n"
     ]
    }
   ],
   "source": [
    "N = 100000\n",
    "Iterations = 10\n",
    "\n",
    "Pis = np.zeros(Iterations)\n",
    "\n",
    "for i in range(Iterations):\n",
    "    Pis[i] = estimate_pi(N)\n",
    "    \n",
    "print(\"Pi variance (iterations={}) {}\".format(Iterations, np.std(Pis)**2))"
   ]
  },
  {
   "cell_type": "code",
   "execution_count": 55,
   "id": "63462aee-e82c-4850-a614-ab68b087ead5",
   "metadata": {},
   "outputs": [],
   "source": [
    "## Task 1.1c"
   ]
  },
  {
   "cell_type": "code",
   "execution_count": 56,
   "id": "6b67a3b4-a6f6-4a54-b7ca-d4b98619e00c",
   "metadata": {},
   "outputs": [],
   "source": [
    "Ns = np.logspace(2,7, num=6)\n",
    "Iterations=30\n",
    "pi_variances = np.zeros(len(Ns))\n",
    "\n",
    "for j, N in enumerate(Ns):\n",
    "    Pis = np.zeros(Iterations)\n",
    "    for i in range(Iterations):\n",
    "        Pis[i] = estimate_pi(int(N))\n",
    "    \n",
    "    pi_variances[j] = np.std(Pis)**2"
   ]
  },
  {
   "cell_type": "code",
   "execution_count": 57,
   "id": "71aac13e-2940-4737-a62a-29a1c5c9d712",
   "metadata": {},
   "outputs": [
    {
     "data": {
      "image/png": "[encoded data removed]",
      "text/plain": [
       "<Figure size 432x288 with 1 Axes>"
      ]
     },
     "metadata": {
      "needs_background": "light"
     },
     "output_type": "display_data"
    }
   ],
   "source": [
    "plt.plot(Ns, pi_variances)\n",
    "plt.xscale('log')\n",
    "plt.yscale('log')\n",
    "plt.xlabel('Sample Size')\n",
    "plt.ylabel('Variance')\n",
    "plt.title(\"Pi estimation variances for different sample sizes\")\n",
    "plt.show()"
   ]
  },
  {
   "cell_type": "code",
   "execution_count": 58,
   "id": "095c3f38-c306-46d6-8330-1ffca99e1013",
   "metadata": {},
   "outputs": [],
   "source": [
    "### Task 1.1d"
   ]
  },
  {
   "cell_type": "code",
   "execution_count": 61,
   "id": "ad4c658e-1b27-4656-a088-1c8a9c64f3e0",
   "metadata": {},
   "outputs": [],
   "source": [
    "def estimate_sphere_vol(N, dimension):\n",
    "\n",
    "    hits = 2*(np.random.rand(N, dimension) - 0.5)\n",
    "    inside = np.sqrt(np.sum(hits**2, axis=1)) <= 1\n",
    "    \n",
    "    alpha=np.sum(inside) / len(inside)\n",
    "    \n",
    "    return alpha * 2**dimension"
   ]
  },
  {
   "cell_type": "code",
   "execution_count": 67,
   "id": "ae8c9049-3e6d-4f41-959f-95e0f959c006",
   "metadata": {},
   "outputs": [
    {
     "name": "stdout",
     "output_type": "stream",
     "text": [
      "2.0\n",
      "3.13412\n",
      "4.19568\n",
      "4.9272\n",
      "5.24832\n"
     ]
    }
   ],
   "source": [
    "N = 100000\n",
    "\n",
    "print(estimate_sphere_vol(N, 1))\n",
    "print(estimate_sphere_vol(N, 2))\n",
    "print(estimate_sphere_vol(N, 3))\n",
    "print(estimate_sphere_vol(N, 4))\n",
    "print(estimate_sphere_vol(N, 5))"
   ]
  },
  {
   "cell_type": "code",
   "execution_count": 1,
   "id": "f90b9c63-2912-437e-a707-622ffd6b051f",
   "metadata": {},
   "outputs": [],
   "source": [
    "## Task 1.3"
   ]
  },
  {
   "cell_type": "code",
   "execution_count": 2,
   "id": "4cb60fdd-8b87-410d-8b6d-27e12b593d06",
   "metadata": {},
   "outputs": [
    {
     "ename": "ModuleNotFoundError",
     "evalue": "No module named 'numba'",
     "output_type": "error",
     "traceback": [
      "\u001B[0;31m---------------------------------------------------------------------------\u001B[0m",
      "\u001B[0;31mModuleNotFoundError\u001B[0m                       Traceback (most recent call last)",
      "\u001B[0;32m<ipython-input-2-7420d1195040>\u001B[0m in \u001B[0;36m<module>\u001B[0;34m\u001B[0m\n\u001B[0;32m----> 1\u001B[0;31m \u001B[0;32mimport\u001B[0m \u001B[0mmetropolis\u001B[0m\u001B[0;34m\u001B[0m\u001B[0;34m\u001B[0m\u001B[0m\n\u001B[0m",
      "\u001B[0;32m~/OneDrive/DOKUMENTE/1_STUDIUM/02_MASTER/2021_SS/01_ComputationalManyBodyPhysics/tutorial/compMBP/tutorial_01/metropolis.py\u001B[0m in \u001B[0;36m<module>\u001B[0;34m\u001B[0m\n\u001B[1;32m      3\u001B[0m \u001B[0;32mimport\u001B[0m \u001B[0mtime\u001B[0m\u001B[0;34m\u001B[0m\u001B[0;34m\u001B[0m\u001B[0m\n\u001B[1;32m      4\u001B[0m \u001B[0;34m\u001B[0m\u001B[0m\n\u001B[0;32m----> 5\u001B[0;31m \u001B[0;32mfrom\u001B[0m \u001B[0mnumba\u001B[0m \u001B[0;32mimport\u001B[0m \u001B[0mjit\u001B[0m\u001B[0;34m\u001B[0m\u001B[0;34m\u001B[0m\u001B[0m\n\u001B[0m\u001B[1;32m      6\u001B[0m \u001B[0;34m\u001B[0m\u001B[0m\n\u001B[1;32m      7\u001B[0m \u001B[0;34m\u001B[0m\u001B[0m\n",
      "\u001B[0;31mModuleNotFoundError\u001B[0m: No module named 'numba'"
     ]
    }
   ],
   "source": [
    "import metropolis"
   ]
  },
  {
   "cell_type": "code",
   "execution_count": null,
   "id": "9e2dce62-93db-40ad-8198-e3cf6153f1bc",
   "metadata": {},
   "outputs": [],
   "source": []
  }
 ],
 "metadata": {
  "kernelspec": {
   "display_name": "Python 3",
   "language": "python",
   "name": "python3"
  },
  "language_info": {
   "codemirror_mode": {
    "name": "ipython",
    "version": 3
   },
   "file_extension": ".py",
   "mimetype": "text/x-python",
   "name": "python",
   "nbconvert_exporter": "python",
   "pygments_lexer": "ipython3",
   "version": "3.9.4"
  }
 },
 "nbformat": 4,
 "nbformat_minor": 5
}